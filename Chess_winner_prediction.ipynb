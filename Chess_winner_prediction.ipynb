{
  "cells": [
    {
      "cell_type": "markdown",
      "id": "46572cfe",
      "metadata": {
        "id": "46572cfe"
      },
      "source": [
        "# CAPSTONE PROJECT 1 : CHESS WINNER PREDICTION"
      ]
    },
    {
      "cell_type": "markdown",
      "id": "9e349fbe",
      "metadata": {
        "id": "9e349fbe"
      },
      "source": [
        "![chess.jpg](attachment:chess.jpg)"
      ]
    },
    {
      "cell_type": "code",
      "execution_count": null,
      "id": "a90b2a19",
      "metadata": {
        "id": "a90b2a19"
      },
      "outputs": [],
      "source": [
        "import numpy as np\n",
        "import pandas as pd\n",
        "import matplotlib.pyplot as plt\n",
        "import seaborn as sns"
      ]
    },
    {
      "cell_type": "code",
      "execution_count": null,
      "id": "fd511321",
      "metadata": {
        "id": "fd511321"
      },
      "outputs": [],
      "source": [
        "df = pd.read_csv('D:\\\\Dataset\\\\chess.csv')"
      ]
    },
    {
      "cell_type": "code",
      "execution_count": null,
      "id": "9abfbfdc",
      "metadata": {
        "id": "9abfbfdc",
        "outputId": "86c06277-184f-46a5-9cc6-0be05e320199"
      },
      "outputs": [
        {
          "data": {
            "text/html": [
              "<div>\n",
              "<style scoped>\n",
              "    .dataframe tbody tr th:only-of-type {\n",
              "        vertical-align: middle;\n",
              "    }\n",
              "\n",
              "    .dataframe tbody tr th {\n",
              "        vertical-align: top;\n",
              "    }\n",
              "\n",
              "    .dataframe thead th {\n",
              "        text-align: right;\n",
              "    }\n",
              "</style>\n",
              "<table border=\"1\" class=\"dataframe\">\n",
              "  <thead>\n",
              "    <tr style=\"text-align: right;\">\n",
              "      <th></th>\n",
              "      <th>id</th>\n",
              "      <th>rated</th>\n",
              "      <th>created_at</th>\n",
              "      <th>last_move_at</th>\n",
              "      <th>turns</th>\n",
              "      <th>victory_status</th>\n",
              "      <th>winner</th>\n",
              "      <th>increment_code</th>\n",
              "      <th>white_id</th>\n",
              "      <th>white_rating</th>\n",
              "      <th>black_id</th>\n",
              "      <th>black_rating</th>\n",
              "      <th>moves</th>\n",
              "      <th>opening_eco</th>\n",
              "      <th>opening_name</th>\n",
              "      <th>opening_ply</th>\n",
              "    </tr>\n",
              "  </thead>\n",
              "  <tbody>\n",
              "    <tr>\n",
              "      <th>0</th>\n",
              "      <td>TZJHLljE</td>\n",
              "      <td>False</td>\n",
              "      <td>1.500000e+12</td>\n",
              "      <td>1.500000e+12</td>\n",
              "      <td>13</td>\n",
              "      <td>outoftime</td>\n",
              "      <td>white</td>\n",
              "      <td>15+2</td>\n",
              "      <td>bourgris</td>\n",
              "      <td>1500</td>\n",
              "      <td>a-00</td>\n",
              "      <td>1191</td>\n",
              "      <td>d4 d5 c4 c6 cxd5 e6 dxe6 fxe6 Nf3 Bb4+ Nc3 Ba5...</td>\n",
              "      <td>D10</td>\n",
              "      <td>Slav Defense: Exchange Variation</td>\n",
              "      <td>5</td>\n",
              "    </tr>\n",
              "  </tbody>\n",
              "</table>\n",
              "</div>"
            ],
            "text/plain": [
              "         id  rated    created_at  last_move_at  turns victory_status winner  \\\n",
              "0  TZJHLljE  False  1.500000e+12  1.500000e+12     13      outoftime  white   \n",
              "\n",
              "  increment_code  white_id  white_rating black_id  black_rating  \\\n",
              "0           15+2  bourgris          1500     a-00          1191   \n",
              "\n",
              "                                               moves opening_eco  \\\n",
              "0  d4 d5 c4 c6 cxd5 e6 dxe6 fxe6 Nf3 Bb4+ Nc3 Ba5...         D10   \n",
              "\n",
              "                       opening_name  opening_ply  \n",
              "0  Slav Defense: Exchange Variation            5  "
            ]
          },
          "execution_count": 70,
          "metadata": {},
          "output_type": "execute_result"
        }
      ],
      "source": [
        "df.head(1)"
      ]
    },
    {
      "cell_type": "markdown",
      "id": "4d0b6d27",
      "metadata": {
        "id": "4d0b6d27"
      },
      "source": [
        "TO CHECK INFORMATION ABOUT DATA"
      ]
    },
    {
      "cell_type": "code",
      "execution_count": null,
      "id": "13a70c96",
      "metadata": {
        "id": "13a70c96",
        "outputId": "7ba26326-1fcc-4e71-e1a7-a10be6b73b8e"
      },
      "outputs": [
        {
          "name": "stdout",
          "output_type": "stream",
          "text": [
            "<class 'pandas.core.frame.DataFrame'>\n",
            "RangeIndex: 20058 entries, 0 to 20057\n",
            "Data columns (total 16 columns):\n",
            " #   Column          Non-Null Count  Dtype  \n",
            "---  ------          --------------  -----  \n",
            " 0   id              20058 non-null  object \n",
            " 1   rated           20058 non-null  bool   \n",
            " 2   created_at      20058 non-null  float64\n",
            " 3   last_move_at    20058 non-null  float64\n",
            " 4   turns           20058 non-null  int64  \n",
            " 5   victory_status  20058 non-null  object \n",
            " 6   winner          20058 non-null  object \n",
            " 7   increment_code  20058 non-null  object \n",
            " 8   white_id        20058 non-null  object \n",
            " 9   white_rating    20058 non-null  int64  \n",
            " 10  black_id        20058 non-null  object \n",
            " 11  black_rating    20058 non-null  int64  \n",
            " 12  moves           20058 non-null  object \n",
            " 13  opening_eco     20058 non-null  object \n",
            " 14  opening_name    20058 non-null  object \n",
            " 15  opening_ply     20058 non-null  int64  \n",
            "dtypes: bool(1), float64(2), int64(4), object(9)\n",
            "memory usage: 2.3+ MB\n"
          ]
        }
      ],
      "source": [
        "df.info()"
      ]
    },
    {
      "cell_type": "markdown",
      "id": "45908c19",
      "metadata": {
        "id": "45908c19"
      },
      "source": [
        "To Check Null Values"
      ]
    },
    {
      "cell_type": "code",
      "execution_count": null,
      "id": "69153d31",
      "metadata": {
        "id": "69153d31",
        "outputId": "5ce41bd6-419e-4b9b-9eec-656b580e4aa7"
      },
      "outputs": [
        {
          "data": {
            "text/plain": [
              "id                0\n",
              "rated             0\n",
              "created_at        0\n",
              "last_move_at      0\n",
              "turns             0\n",
              "victory_status    0\n",
              "winner            0\n",
              "increment_code    0\n",
              "white_id          0\n",
              "white_rating      0\n",
              "black_id          0\n",
              "black_rating      0\n",
              "moves             0\n",
              "opening_eco       0\n",
              "opening_name      0\n",
              "opening_ply       0\n",
              "dtype: int64"
            ]
          },
          "execution_count": 5,
          "metadata": {},
          "output_type": "execute_result"
        }
      ],
      "source": [
        "df.isnull().sum()"
      ]
    },
    {
      "cell_type": "markdown",
      "id": "4f051bd0",
      "metadata": {
        "id": "4f051bd0"
      },
      "source": [
        "##### There is No Null Values"
      ]
    },
    {
      "cell_type": "markdown",
      "id": "8dc76b7e",
      "metadata": {
        "id": "8dc76b7e"
      },
      "source": [
        "TO CHECK UNIQUE VALUES"
      ]
    },
    {
      "cell_type": "code",
      "execution_count": null,
      "id": "aeedd4a3",
      "metadata": {
        "id": "aeedd4a3",
        "outputId": "ac2cb389-d004-406b-8036-5357be117fdf"
      },
      "outputs": [
        {
          "data": {
            "text/plain": [
              "id                19113\n",
              "rated                 2\n",
              "created_at         2626\n",
              "last_move_at       2657\n",
              "turns               211\n",
              "victory_status        4\n",
              "winner                3\n",
              "increment_code      400\n",
              "white_id           9438\n",
              "white_rating       1516\n",
              "black_id           9331\n",
              "black_rating       1521\n",
              "moves             18920\n",
              "opening_eco         365\n",
              "opening_name       1477\n",
              "opening_ply          23\n",
              "dtype: int64"
            ]
          },
          "execution_count": 6,
          "metadata": {},
          "output_type": "execute_result"
        }
      ],
      "source": [
        "df.nunique()"
      ]
    },
    {
      "cell_type": "markdown",
      "id": "9c88171a",
      "metadata": {
        "id": "9c88171a"
      },
      "source": [
        "TO DESCRIBE THE VALUES BEFORE FEATURE SCALING AND FEATURE ENGINEERING"
      ]
    },
    {
      "cell_type": "code",
      "execution_count": null,
      "id": "65d0e878",
      "metadata": {
        "id": "65d0e878",
        "outputId": "ef9159bb-39b7-45c1-ab98-019087d5970a"
      },
      "outputs": [
        {
          "data": {
            "text/html": [
              "<div>\n",
              "<style scoped>\n",
              "    .dataframe tbody tr th:only-of-type {\n",
              "        vertical-align: middle;\n",
              "    }\n",
              "\n",
              "    .dataframe tbody tr th {\n",
              "        vertical-align: top;\n",
              "    }\n",
              "\n",
              "    .dataframe thead th {\n",
              "        text-align: right;\n",
              "    }\n",
              "</style>\n",
              "<table border=\"1\" class=\"dataframe\">\n",
              "  <thead>\n",
              "    <tr style=\"text-align: right;\">\n",
              "      <th></th>\n",
              "      <th>created_at</th>\n",
              "      <th>last_move_at</th>\n",
              "      <th>turns</th>\n",
              "      <th>white_rating</th>\n",
              "      <th>black_rating</th>\n",
              "      <th>opening_ply</th>\n",
              "    </tr>\n",
              "  </thead>\n",
              "  <tbody>\n",
              "    <tr>\n",
              "      <th>count</th>\n",
              "      <td>2.005800e+04</td>\n",
              "      <td>2.005800e+04</td>\n",
              "      <td>20058.000000</td>\n",
              "      <td>20058.000000</td>\n",
              "      <td>20058.000000</td>\n",
              "      <td>20058.000000</td>\n",
              "    </tr>\n",
              "    <tr>\n",
              "      <th>mean</th>\n",
              "      <td>1.483208e+12</td>\n",
              "      <td>1.483208e+12</td>\n",
              "      <td>60.465999</td>\n",
              "      <td>1596.631868</td>\n",
              "      <td>1588.831987</td>\n",
              "      <td>4.816981</td>\n",
              "    </tr>\n",
              "    <tr>\n",
              "      <th>std</th>\n",
              "      <td>2.831972e+10</td>\n",
              "      <td>2.831967e+10</td>\n",
              "      <td>33.570585</td>\n",
              "      <td>291.253376</td>\n",
              "      <td>291.036126</td>\n",
              "      <td>2.797152</td>\n",
              "    </tr>\n",
              "    <tr>\n",
              "      <th>min</th>\n",
              "      <td>1.376770e+12</td>\n",
              "      <td>1.376770e+12</td>\n",
              "      <td>1.000000</td>\n",
              "      <td>784.000000</td>\n",
              "      <td>789.000000</td>\n",
              "      <td>1.000000</td>\n",
              "    </tr>\n",
              "    <tr>\n",
              "      <th>25%</th>\n",
              "      <td>1.479640e+12</td>\n",
              "      <td>1.479642e+12</td>\n",
              "      <td>37.000000</td>\n",
              "      <td>1398.000000</td>\n",
              "      <td>1391.000000</td>\n",
              "      <td>3.000000</td>\n",
              "    </tr>\n",
              "    <tr>\n",
              "      <th>50%</th>\n",
              "      <td>1.497030e+12</td>\n",
              "      <td>1.497030e+12</td>\n",
              "      <td>55.000000</td>\n",
              "      <td>1567.000000</td>\n",
              "      <td>1562.000000</td>\n",
              "      <td>4.000000</td>\n",
              "    </tr>\n",
              "    <tr>\n",
              "      <th>75%</th>\n",
              "      <td>1.500708e+12</td>\n",
              "      <td>1.500708e+12</td>\n",
              "      <td>79.000000</td>\n",
              "      <td>1793.000000</td>\n",
              "      <td>1784.000000</td>\n",
              "      <td>6.000000</td>\n",
              "    </tr>\n",
              "    <tr>\n",
              "      <th>max</th>\n",
              "      <td>1.504490e+12</td>\n",
              "      <td>1.504490e+12</td>\n",
              "      <td>349.000000</td>\n",
              "      <td>2700.000000</td>\n",
              "      <td>2723.000000</td>\n",
              "      <td>28.000000</td>\n",
              "    </tr>\n",
              "  </tbody>\n",
              "</table>\n",
              "</div>"
            ],
            "text/plain": [
              "         created_at  last_move_at         turns  white_rating  black_rating  \\\n",
              "count  2.005800e+04  2.005800e+04  20058.000000  20058.000000  20058.000000   \n",
              "mean   1.483208e+12  1.483208e+12     60.465999   1596.631868   1588.831987   \n",
              "std    2.831972e+10  2.831967e+10     33.570585    291.253376    291.036126   \n",
              "min    1.376770e+12  1.376770e+12      1.000000    784.000000    789.000000   \n",
              "25%    1.479640e+12  1.479642e+12     37.000000   1398.000000   1391.000000   \n",
              "50%    1.497030e+12  1.497030e+12     55.000000   1567.000000   1562.000000   \n",
              "75%    1.500708e+12  1.500708e+12     79.000000   1793.000000   1784.000000   \n",
              "max    1.504490e+12  1.504490e+12    349.000000   2700.000000   2723.000000   \n",
              "\n",
              "        opening_ply  \n",
              "count  20058.000000  \n",
              "mean       4.816981  \n",
              "std        2.797152  \n",
              "min        1.000000  \n",
              "25%        3.000000  \n",
              "50%        4.000000  \n",
              "75%        6.000000  \n",
              "max       28.000000  "
            ]
          },
          "execution_count": 7,
          "metadata": {},
          "output_type": "execute_result"
        }
      ],
      "source": [
        "df.describe()"
      ]
    },
    {
      "cell_type": "markdown",
      "id": "69e696a4",
      "metadata": {
        "id": "69e696a4"
      },
      "source": [
        "TO SPLIT DEPENDENT AND INDEPENDENT VARIABLE"
      ]
    },
    {
      "cell_type": "code",
      "execution_count": null,
      "id": "b5ae183f",
      "metadata": {
        "id": "b5ae183f"
      },
      "outputs": [],
      "source": [
        "x = df.drop(['id','white_id','black_id','winner'],axis=1)"
      ]
    },
    {
      "cell_type": "code",
      "execution_count": null,
      "id": "c66ff059",
      "metadata": {
        "id": "c66ff059"
      },
      "outputs": [],
      "source": [
        "y = df['winner']"
      ]
    },
    {
      "cell_type": "code",
      "execution_count": null,
      "id": "6d7f9057",
      "metadata": {
        "scrolled": true,
        "id": "6d7f9057",
        "outputId": "55903dd8-4954-4bc7-d11c-25aa0a3b76e6"
      },
      "outputs": [
        {
          "data": {
            "text/html": [
              "<div>\n",
              "<style scoped>\n",
              "    .dataframe tbody tr th:only-of-type {\n",
              "        vertical-align: middle;\n",
              "    }\n",
              "\n",
              "    .dataframe tbody tr th {\n",
              "        vertical-align: top;\n",
              "    }\n",
              "\n",
              "    .dataframe thead th {\n",
              "        text-align: right;\n",
              "    }\n",
              "</style>\n",
              "<table border=\"1\" class=\"dataframe\">\n",
              "  <thead>\n",
              "    <tr style=\"text-align: right;\">\n",
              "      <th></th>\n",
              "      <th>rated</th>\n",
              "      <th>created_at</th>\n",
              "      <th>last_move_at</th>\n",
              "      <th>turns</th>\n",
              "      <th>victory_status</th>\n",
              "      <th>increment_code</th>\n",
              "      <th>white_rating</th>\n",
              "      <th>black_rating</th>\n",
              "      <th>moves</th>\n",
              "      <th>opening_eco</th>\n",
              "      <th>opening_name</th>\n",
              "      <th>opening_ply</th>\n",
              "    </tr>\n",
              "  </thead>\n",
              "  <tbody>\n",
              "    <tr>\n",
              "      <th>0</th>\n",
              "      <td>False</td>\n",
              "      <td>1.500000e+12</td>\n",
              "      <td>1.500000e+12</td>\n",
              "      <td>13</td>\n",
              "      <td>outoftime</td>\n",
              "      <td>15+2</td>\n",
              "      <td>1500</td>\n",
              "      <td>1191</td>\n",
              "      <td>d4 d5 c4 c6 cxd5 e6 dxe6 fxe6 Nf3 Bb4+ Nc3 Ba5...</td>\n",
              "      <td>D10</td>\n",
              "      <td>Slav Defense: Exchange Variation</td>\n",
              "      <td>5</td>\n",
              "    </tr>\n",
              "    <tr>\n",
              "      <th>1</th>\n",
              "      <td>True</td>\n",
              "      <td>1.500000e+12</td>\n",
              "      <td>1.500000e+12</td>\n",
              "      <td>16</td>\n",
              "      <td>resign</td>\n",
              "      <td>5+10</td>\n",
              "      <td>1322</td>\n",
              "      <td>1261</td>\n",
              "      <td>d4 Nc6 e4 e5 f4 f6 dxe5 fxe5 fxe5 Nxe5 Qd4 Nc6...</td>\n",
              "      <td>B00</td>\n",
              "      <td>Nimzowitsch Defense: Kennedy Variation</td>\n",
              "      <td>4</td>\n",
              "    </tr>\n",
              "  </tbody>\n",
              "</table>\n",
              "</div>"
            ],
            "text/plain": [
              "   rated    created_at  last_move_at  turns victory_status increment_code  \\\n",
              "0  False  1.500000e+12  1.500000e+12     13      outoftime           15+2   \n",
              "1   True  1.500000e+12  1.500000e+12     16         resign           5+10   \n",
              "\n",
              "   white_rating  black_rating  \\\n",
              "0          1500          1191   \n",
              "1          1322          1261   \n",
              "\n",
              "                                               moves opening_eco  \\\n",
              "0  d4 d5 c4 c6 cxd5 e6 dxe6 fxe6 Nf3 Bb4+ Nc3 Ba5...         D10   \n",
              "1  d4 Nc6 e4 e5 f4 f6 dxe5 fxe5 fxe5 Nxe5 Qd4 Nc6...         B00   \n",
              "\n",
              "                             opening_name  opening_ply  \n",
              "0        Slav Defense: Exchange Variation            5  \n",
              "1  Nimzowitsch Defense: Kennedy Variation            4  "
            ]
          },
          "execution_count": 10,
          "metadata": {},
          "output_type": "execute_result"
        }
      ],
      "source": [
        "x.head(2)"
      ]
    },
    {
      "cell_type": "markdown",
      "id": "d5b29699",
      "metadata": {
        "id": "d5b29699"
      },
      "source": [
        "To change Target values into categorical Numeric values, Because Target Encoder support Numeric categorical values"
      ]
    },
    {
      "cell_type": "code",
      "execution_count": null,
      "id": "400b9aec",
      "metadata": {
        "id": "400b9aec"
      },
      "outputs": [],
      "source": [
        "Y = []\n",
        "for i in y:\n",
        "    if i=='white':\n",
        "        Y.append(1)\n",
        "    elif i=='black':\n",
        "        Y.append(0)\n",
        "    else:\n",
        "        Y.append(2)"
      ]
    },
    {
      "cell_type": "markdown",
      "id": "579b7199",
      "metadata": {
        "id": "579b7199"
      },
      "source": [
        "USING TARGET ENCODER FOR TEXT CATEGORAL VARIABLES"
      ]
    },
    {
      "cell_type": "code",
      "execution_count": null,
      "id": "f60d5058",
      "metadata": {
        "id": "f60d5058"
      },
      "outputs": [],
      "source": [
        "from category_encoders import TargetEncoder"
      ]
    },
    {
      "cell_type": "code",
      "execution_count": null,
      "id": "ec1e7634",
      "metadata": {
        "id": "ec1e7634"
      },
      "outputs": [],
      "source": [
        "Model = TargetEncoder()"
      ]
    },
    {
      "cell_type": "code",
      "execution_count": null,
      "id": "76fc2e78",
      "metadata": {
        "id": "76fc2e78"
      },
      "outputs": [],
      "source": [
        "Col = ['increment_code','moves','victory_status','opening_name','opening_eco']"
      ]
    },
    {
      "cell_type": "code",
      "execution_count": null,
      "id": "28b8341b",
      "metadata": {
        "id": "28b8341b"
      },
      "outputs": [],
      "source": [
        "b = Model.fit_transform(df['opening_eco'],Y)"
      ]
    },
    {
      "cell_type": "code",
      "execution_count": null,
      "id": "afa1f85c",
      "metadata": {
        "id": "afa1f85c"
      },
      "outputs": [],
      "source": [
        "for i in Col:\n",
        "    x[i] = Model.fit_transform(x[i],Y)"
      ]
    },
    {
      "cell_type": "code",
      "execution_count": null,
      "id": "0769a86f",
      "metadata": {
        "id": "0769a86f",
        "outputId": "e92878fe-8d1c-42df-b0cb-b769eb83971b"
      },
      "outputs": [
        {
          "data": {
            "text/html": [
              "<div>\n",
              "<style scoped>\n",
              "    .dataframe tbody tr th:only-of-type {\n",
              "        vertical-align: middle;\n",
              "    }\n",
              "\n",
              "    .dataframe tbody tr th {\n",
              "        vertical-align: top;\n",
              "    }\n",
              "\n",
              "    .dataframe thead th {\n",
              "        text-align: right;\n",
              "    }\n",
              "</style>\n",
              "<table border=\"1\" class=\"dataframe\">\n",
              "  <thead>\n",
              "    <tr style=\"text-align: right;\">\n",
              "      <th></th>\n",
              "      <th>rated</th>\n",
              "      <th>created_at</th>\n",
              "      <th>last_move_at</th>\n",
              "      <th>turns</th>\n",
              "      <th>victory_status</th>\n",
              "      <th>increment_code</th>\n",
              "      <th>white_rating</th>\n",
              "      <th>black_rating</th>\n",
              "      <th>moves</th>\n",
              "      <th>opening_eco</th>\n",
              "      <th>opening_name</th>\n",
              "      <th>opening_ply</th>\n",
              "    </tr>\n",
              "  </thead>\n",
              "  <tbody>\n",
              "    <tr>\n",
              "      <th>0</th>\n",
              "      <td>False</td>\n",
              "      <td>1.500000e+12</td>\n",
              "      <td>1.500000e+12</td>\n",
              "      <td>13</td>\n",
              "      <td>0.536310</td>\n",
              "      <td>0.590001</td>\n",
              "      <td>1500</td>\n",
              "      <td>1191</td>\n",
              "      <td>0.646241</td>\n",
              "      <td>0.545460</td>\n",
              "      <td>0.486493</td>\n",
              "      <td>5</td>\n",
              "    </tr>\n",
              "    <tr>\n",
              "      <th>1</th>\n",
              "      <td>True</td>\n",
              "      <td>1.500000e+12</td>\n",
              "      <td>1.500000e+12</td>\n",
              "      <td>16</td>\n",
              "      <td>0.524267</td>\n",
              "      <td>0.554839</td>\n",
              "      <td>1322</td>\n",
              "      <td>1261</td>\n",
              "      <td>0.516132</td>\n",
              "      <td>0.689034</td>\n",
              "      <td>0.594546</td>\n",
              "      <td>4</td>\n",
              "    </tr>\n",
              "    <tr>\n",
              "      <th>2</th>\n",
              "      <td>True</td>\n",
              "      <td>1.500000e+12</td>\n",
              "      <td>1.500000e+12</td>\n",
              "      <td>61</td>\n",
              "      <td>0.528696</td>\n",
              "      <td>0.554839</td>\n",
              "      <td>1496</td>\n",
              "      <td>1500</td>\n",
              "      <td>0.646241</td>\n",
              "      <td>0.505185</td>\n",
              "      <td>0.487013</td>\n",
              "      <td>3</td>\n",
              "    </tr>\n",
              "    <tr>\n",
              "      <th>3</th>\n",
              "      <td>True</td>\n",
              "      <td>1.500000e+12</td>\n",
              "      <td>1.500000e+12</td>\n",
              "      <td>61</td>\n",
              "      <td>0.528696</td>\n",
              "      <td>0.582589</td>\n",
              "      <td>1439</td>\n",
              "      <td>1454</td>\n",
              "      <td>0.651016</td>\n",
              "      <td>0.599078</td>\n",
              "      <td>0.675432</td>\n",
              "      <td>3</td>\n",
              "    </tr>\n",
              "    <tr>\n",
              "      <th>4</th>\n",
              "      <td>True</td>\n",
              "      <td>1.500000e+12</td>\n",
              "      <td>1.500000e+12</td>\n",
              "      <td>95</td>\n",
              "      <td>0.528696</td>\n",
              "      <td>0.649829</td>\n",
              "      <td>1523</td>\n",
              "      <td>1469</td>\n",
              "      <td>0.651016</td>\n",
              "      <td>0.654124</td>\n",
              "      <td>0.755554</td>\n",
              "      <td>5</td>\n",
              "    </tr>\n",
              "    <tr>\n",
              "      <th>...</th>\n",
              "      <td>...</td>\n",
              "      <td>...</td>\n",
              "      <td>...</td>\n",
              "      <td>...</td>\n",
              "      <td>...</td>\n",
              "      <td>...</td>\n",
              "      <td>...</td>\n",
              "      <td>...</td>\n",
              "      <td>...</td>\n",
              "      <td>...</td>\n",
              "      <td>...</td>\n",
              "      <td>...</td>\n",
              "    </tr>\n",
              "    <tr>\n",
              "      <th>20053</th>\n",
              "      <td>True</td>\n",
              "      <td>1.499790e+12</td>\n",
              "      <td>1.499790e+12</td>\n",
              "      <td>24</td>\n",
              "      <td>0.524267</td>\n",
              "      <td>0.678873</td>\n",
              "      <td>1691</td>\n",
              "      <td>1220</td>\n",
              "      <td>0.646241</td>\n",
              "      <td>0.635102</td>\n",
              "      <td>0.603545</td>\n",
              "      <td>2</td>\n",
              "    </tr>\n",
              "    <tr>\n",
              "      <th>20054</th>\n",
              "      <td>True</td>\n",
              "      <td>1.499700e+12</td>\n",
              "      <td>1.499700e+12</td>\n",
              "      <td>82</td>\n",
              "      <td>0.528696</td>\n",
              "      <td>0.579718</td>\n",
              "      <td>1233</td>\n",
              "      <td>1196</td>\n",
              "      <td>0.516132</td>\n",
              "      <td>0.599973</td>\n",
              "      <td>0.736431</td>\n",
              "      <td>2</td>\n",
              "    </tr>\n",
              "    <tr>\n",
              "      <th>20055</th>\n",
              "      <td>True</td>\n",
              "      <td>1.499700e+12</td>\n",
              "      <td>1.499700e+12</td>\n",
              "      <td>35</td>\n",
              "      <td>0.528696</td>\n",
              "      <td>0.579718</td>\n",
              "      <td>1219</td>\n",
              "      <td>1286</td>\n",
              "      <td>0.646241</td>\n",
              "      <td>0.564276</td>\n",
              "      <td>0.612069</td>\n",
              "      <td>3</td>\n",
              "    </tr>\n",
              "    <tr>\n",
              "      <th>20056</th>\n",
              "      <td>True</td>\n",
              "      <td>1.499700e+12</td>\n",
              "      <td>1.499700e+12</td>\n",
              "      <td>109</td>\n",
              "      <td>0.524267</td>\n",
              "      <td>0.579718</td>\n",
              "      <td>1360</td>\n",
              "      <td>1227</td>\n",
              "      <td>0.646241</td>\n",
              "      <td>0.674342</td>\n",
              "      <td>0.536495</td>\n",
              "      <td>4</td>\n",
              "    </tr>\n",
              "    <tr>\n",
              "      <th>20057</th>\n",
              "      <td>True</td>\n",
              "      <td>1.499640e+12</td>\n",
              "      <td>1.499640e+12</td>\n",
              "      <td>78</td>\n",
              "      <td>0.528696</td>\n",
              "      <td>0.579718</td>\n",
              "      <td>1235</td>\n",
              "      <td>1339</td>\n",
              "      <td>0.516132</td>\n",
              "      <td>0.564276</td>\n",
              "      <td>0.612069</td>\n",
              "      <td>3</td>\n",
              "    </tr>\n",
              "  </tbody>\n",
              "</table>\n",
              "<p>20058 rows × 12 columns</p>\n",
              "</div>"
            ],
            "text/plain": [
              "       rated    created_at  last_move_at  turns  victory_status  \\\n",
              "0      False  1.500000e+12  1.500000e+12     13        0.536310   \n",
              "1       True  1.500000e+12  1.500000e+12     16        0.524267   \n",
              "2       True  1.500000e+12  1.500000e+12     61        0.528696   \n",
              "3       True  1.500000e+12  1.500000e+12     61        0.528696   \n",
              "4       True  1.500000e+12  1.500000e+12     95        0.528696   \n",
              "...      ...           ...           ...    ...             ...   \n",
              "20053   True  1.499790e+12  1.499790e+12     24        0.524267   \n",
              "20054   True  1.499700e+12  1.499700e+12     82        0.528696   \n",
              "20055   True  1.499700e+12  1.499700e+12     35        0.528696   \n",
              "20056   True  1.499700e+12  1.499700e+12    109        0.524267   \n",
              "20057   True  1.499640e+12  1.499640e+12     78        0.528696   \n",
              "\n",
              "       increment_code  white_rating  black_rating     moves  opening_eco  \\\n",
              "0            0.590001          1500          1191  0.646241     0.545460   \n",
              "1            0.554839          1322          1261  0.516132     0.689034   \n",
              "2            0.554839          1496          1500  0.646241     0.505185   \n",
              "3            0.582589          1439          1454  0.651016     0.599078   \n",
              "4            0.649829          1523          1469  0.651016     0.654124   \n",
              "...               ...           ...           ...       ...          ...   \n",
              "20053        0.678873          1691          1220  0.646241     0.635102   \n",
              "20054        0.579718          1233          1196  0.516132     0.599973   \n",
              "20055        0.579718          1219          1286  0.646241     0.564276   \n",
              "20056        0.579718          1360          1227  0.646241     0.674342   \n",
              "20057        0.579718          1235          1339  0.516132     0.564276   \n",
              "\n",
              "       opening_name  opening_ply  \n",
              "0          0.486493            5  \n",
              "1          0.594546            4  \n",
              "2          0.487013            3  \n",
              "3          0.675432            3  \n",
              "4          0.755554            5  \n",
              "...             ...          ...  \n",
              "20053      0.603545            2  \n",
              "20054      0.736431            2  \n",
              "20055      0.612069            3  \n",
              "20056      0.536495            4  \n",
              "20057      0.612069            3  \n",
              "\n",
              "[20058 rows x 12 columns]"
            ]
          },
          "execution_count": 17,
          "metadata": {},
          "output_type": "execute_result"
        }
      ],
      "source": [
        "x"
      ]
    },
    {
      "cell_type": "markdown",
      "id": "9689fe9e",
      "metadata": {
        "id": "9689fe9e"
      },
      "source": [
        "USING LABEL ENCODER FOR CATEGORICAL VARIABLES"
      ]
    },
    {
      "cell_type": "code",
      "execution_count": null,
      "id": "53c139ac",
      "metadata": {
        "id": "53c139ac"
      },
      "outputs": [],
      "source": [
        "from sklearn.preprocessing import LabelEncoder"
      ]
    },
    {
      "cell_type": "code",
      "execution_count": null,
      "id": "9482d100",
      "metadata": {
        "id": "9482d100"
      },
      "outputs": [],
      "source": [
        "Model1 = LabelEncoder()"
      ]
    },
    {
      "cell_type": "code",
      "execution_count": null,
      "id": "5446bd6d",
      "metadata": {
        "id": "5446bd6d"
      },
      "outputs": [],
      "source": [
        "x['rated'] = Model1.fit_transform(x['rated'])"
      ]
    },
    {
      "cell_type": "code",
      "execution_count": null,
      "id": "fca07555",
      "metadata": {
        "id": "fca07555",
        "outputId": "b3b7599c-1d07-4933-b082-4ab20c5ae3e2"
      },
      "outputs": [
        {
          "data": {
            "text/html": [
              "<div>\n",
              "<style scoped>\n",
              "    .dataframe tbody tr th:only-of-type {\n",
              "        vertical-align: middle;\n",
              "    }\n",
              "\n",
              "    .dataframe tbody tr th {\n",
              "        vertical-align: top;\n",
              "    }\n",
              "\n",
              "    .dataframe thead th {\n",
              "        text-align: right;\n",
              "    }\n",
              "</style>\n",
              "<table border=\"1\" class=\"dataframe\">\n",
              "  <thead>\n",
              "    <tr style=\"text-align: right;\">\n",
              "      <th></th>\n",
              "      <th>rated</th>\n",
              "      <th>created_at</th>\n",
              "      <th>last_move_at</th>\n",
              "      <th>turns</th>\n",
              "      <th>victory_status</th>\n",
              "      <th>increment_code</th>\n",
              "      <th>white_rating</th>\n",
              "      <th>black_rating</th>\n",
              "      <th>moves</th>\n",
              "      <th>opening_eco</th>\n",
              "      <th>opening_name</th>\n",
              "      <th>opening_ply</th>\n",
              "    </tr>\n",
              "  </thead>\n",
              "  <tbody>\n",
              "    <tr>\n",
              "      <th>0</th>\n",
              "      <td>0</td>\n",
              "      <td>1.500000e+12</td>\n",
              "      <td>1.500000e+12</td>\n",
              "      <td>13</td>\n",
              "      <td>0.536310</td>\n",
              "      <td>0.590001</td>\n",
              "      <td>1500</td>\n",
              "      <td>1191</td>\n",
              "      <td>0.646241</td>\n",
              "      <td>0.545460</td>\n",
              "      <td>0.486493</td>\n",
              "      <td>5</td>\n",
              "    </tr>\n",
              "    <tr>\n",
              "      <th>1</th>\n",
              "      <td>1</td>\n",
              "      <td>1.500000e+12</td>\n",
              "      <td>1.500000e+12</td>\n",
              "      <td>16</td>\n",
              "      <td>0.524267</td>\n",
              "      <td>0.554839</td>\n",
              "      <td>1322</td>\n",
              "      <td>1261</td>\n",
              "      <td>0.516132</td>\n",
              "      <td>0.689034</td>\n",
              "      <td>0.594546</td>\n",
              "      <td>4</td>\n",
              "    </tr>\n",
              "    <tr>\n",
              "      <th>2</th>\n",
              "      <td>1</td>\n",
              "      <td>1.500000e+12</td>\n",
              "      <td>1.500000e+12</td>\n",
              "      <td>61</td>\n",
              "      <td>0.528696</td>\n",
              "      <td>0.554839</td>\n",
              "      <td>1496</td>\n",
              "      <td>1500</td>\n",
              "      <td>0.646241</td>\n",
              "      <td>0.505185</td>\n",
              "      <td>0.487013</td>\n",
              "      <td>3</td>\n",
              "    </tr>\n",
              "    <tr>\n",
              "      <th>3</th>\n",
              "      <td>1</td>\n",
              "      <td>1.500000e+12</td>\n",
              "      <td>1.500000e+12</td>\n",
              "      <td>61</td>\n",
              "      <td>0.528696</td>\n",
              "      <td>0.582589</td>\n",
              "      <td>1439</td>\n",
              "      <td>1454</td>\n",
              "      <td>0.651016</td>\n",
              "      <td>0.599078</td>\n",
              "      <td>0.675432</td>\n",
              "      <td>3</td>\n",
              "    </tr>\n",
              "    <tr>\n",
              "      <th>4</th>\n",
              "      <td>1</td>\n",
              "      <td>1.500000e+12</td>\n",
              "      <td>1.500000e+12</td>\n",
              "      <td>95</td>\n",
              "      <td>0.528696</td>\n",
              "      <td>0.649829</td>\n",
              "      <td>1523</td>\n",
              "      <td>1469</td>\n",
              "      <td>0.651016</td>\n",
              "      <td>0.654124</td>\n",
              "      <td>0.755554</td>\n",
              "      <td>5</td>\n",
              "    </tr>\n",
              "    <tr>\n",
              "      <th>...</th>\n",
              "      <td>...</td>\n",
              "      <td>...</td>\n",
              "      <td>...</td>\n",
              "      <td>...</td>\n",
              "      <td>...</td>\n",
              "      <td>...</td>\n",
              "      <td>...</td>\n",
              "      <td>...</td>\n",
              "      <td>...</td>\n",
              "      <td>...</td>\n",
              "      <td>...</td>\n",
              "      <td>...</td>\n",
              "    </tr>\n",
              "    <tr>\n",
              "      <th>20053</th>\n",
              "      <td>1</td>\n",
              "      <td>1.499790e+12</td>\n",
              "      <td>1.499790e+12</td>\n",
              "      <td>24</td>\n",
              "      <td>0.524267</td>\n",
              "      <td>0.678873</td>\n",
              "      <td>1691</td>\n",
              "      <td>1220</td>\n",
              "      <td>0.646241</td>\n",
              "      <td>0.635102</td>\n",
              "      <td>0.603545</td>\n",
              "      <td>2</td>\n",
              "    </tr>\n",
              "    <tr>\n",
              "      <th>20054</th>\n",
              "      <td>1</td>\n",
              "      <td>1.499700e+12</td>\n",
              "      <td>1.499700e+12</td>\n",
              "      <td>82</td>\n",
              "      <td>0.528696</td>\n",
              "      <td>0.579718</td>\n",
              "      <td>1233</td>\n",
              "      <td>1196</td>\n",
              "      <td>0.516132</td>\n",
              "      <td>0.599973</td>\n",
              "      <td>0.736431</td>\n",
              "      <td>2</td>\n",
              "    </tr>\n",
              "    <tr>\n",
              "      <th>20055</th>\n",
              "      <td>1</td>\n",
              "      <td>1.499700e+12</td>\n",
              "      <td>1.499700e+12</td>\n",
              "      <td>35</td>\n",
              "      <td>0.528696</td>\n",
              "      <td>0.579718</td>\n",
              "      <td>1219</td>\n",
              "      <td>1286</td>\n",
              "      <td>0.646241</td>\n",
              "      <td>0.564276</td>\n",
              "      <td>0.612069</td>\n",
              "      <td>3</td>\n",
              "    </tr>\n",
              "    <tr>\n",
              "      <th>20056</th>\n",
              "      <td>1</td>\n",
              "      <td>1.499700e+12</td>\n",
              "      <td>1.499700e+12</td>\n",
              "      <td>109</td>\n",
              "      <td>0.524267</td>\n",
              "      <td>0.579718</td>\n",
              "      <td>1360</td>\n",
              "      <td>1227</td>\n",
              "      <td>0.646241</td>\n",
              "      <td>0.674342</td>\n",
              "      <td>0.536495</td>\n",
              "      <td>4</td>\n",
              "    </tr>\n",
              "    <tr>\n",
              "      <th>20057</th>\n",
              "      <td>1</td>\n",
              "      <td>1.499640e+12</td>\n",
              "      <td>1.499640e+12</td>\n",
              "      <td>78</td>\n",
              "      <td>0.528696</td>\n",
              "      <td>0.579718</td>\n",
              "      <td>1235</td>\n",
              "      <td>1339</td>\n",
              "      <td>0.516132</td>\n",
              "      <td>0.564276</td>\n",
              "      <td>0.612069</td>\n",
              "      <td>3</td>\n",
              "    </tr>\n",
              "  </tbody>\n",
              "</table>\n",
              "<p>20058 rows × 12 columns</p>\n",
              "</div>"
            ],
            "text/plain": [
              "       rated    created_at  last_move_at  turns  victory_status  \\\n",
              "0          0  1.500000e+12  1.500000e+12     13        0.536310   \n",
              "1          1  1.500000e+12  1.500000e+12     16        0.524267   \n",
              "2          1  1.500000e+12  1.500000e+12     61        0.528696   \n",
              "3          1  1.500000e+12  1.500000e+12     61        0.528696   \n",
              "4          1  1.500000e+12  1.500000e+12     95        0.528696   \n",
              "...      ...           ...           ...    ...             ...   \n",
              "20053      1  1.499790e+12  1.499790e+12     24        0.524267   \n",
              "20054      1  1.499700e+12  1.499700e+12     82        0.528696   \n",
              "20055      1  1.499700e+12  1.499700e+12     35        0.528696   \n",
              "20056      1  1.499700e+12  1.499700e+12    109        0.524267   \n",
              "20057      1  1.499640e+12  1.499640e+12     78        0.528696   \n",
              "\n",
              "       increment_code  white_rating  black_rating     moves  opening_eco  \\\n",
              "0            0.590001          1500          1191  0.646241     0.545460   \n",
              "1            0.554839          1322          1261  0.516132     0.689034   \n",
              "2            0.554839          1496          1500  0.646241     0.505185   \n",
              "3            0.582589          1439          1454  0.651016     0.599078   \n",
              "4            0.649829          1523          1469  0.651016     0.654124   \n",
              "...               ...           ...           ...       ...          ...   \n",
              "20053        0.678873          1691          1220  0.646241     0.635102   \n",
              "20054        0.579718          1233          1196  0.516132     0.599973   \n",
              "20055        0.579718          1219          1286  0.646241     0.564276   \n",
              "20056        0.579718          1360          1227  0.646241     0.674342   \n",
              "20057        0.579718          1235          1339  0.516132     0.564276   \n",
              "\n",
              "       opening_name  opening_ply  \n",
              "0          0.486493            5  \n",
              "1          0.594546            4  \n",
              "2          0.487013            3  \n",
              "3          0.675432            3  \n",
              "4          0.755554            5  \n",
              "...             ...          ...  \n",
              "20053      0.603545            2  \n",
              "20054      0.736431            2  \n",
              "20055      0.612069            3  \n",
              "20056      0.536495            4  \n",
              "20057      0.612069            3  \n",
              "\n",
              "[20058 rows x 12 columns]"
            ]
          },
          "execution_count": 21,
          "metadata": {},
          "output_type": "execute_result"
        }
      ],
      "source": [
        "x"
      ]
    },
    {
      "cell_type": "code",
      "execution_count": null,
      "id": "dd8a04b3",
      "metadata": {
        "id": "dd8a04b3"
      },
      "outputs": [],
      "source": [
        "df1 = pd.DataFrame(x)"
      ]
    },
    {
      "cell_type": "code",
      "execution_count": null,
      "id": "4f4963b2",
      "metadata": {
        "id": "4f4963b2"
      },
      "outputs": [],
      "source": [
        "df1['winner'] = Y"
      ]
    },
    {
      "cell_type": "code",
      "execution_count": null,
      "id": "ec193d0d",
      "metadata": {
        "id": "ec193d0d",
        "outputId": "61af602c-aeb7-406b-8f8f-16d81793eb23"
      },
      "outputs": [
        {
          "data": {
            "text/html": [
              "<div>\n",
              "<style scoped>\n",
              "    .dataframe tbody tr th:only-of-type {\n",
              "        vertical-align: middle;\n",
              "    }\n",
              "\n",
              "    .dataframe tbody tr th {\n",
              "        vertical-align: top;\n",
              "    }\n",
              "\n",
              "    .dataframe thead th {\n",
              "        text-align: right;\n",
              "    }\n",
              "</style>\n",
              "<table border=\"1\" class=\"dataframe\">\n",
              "  <thead>\n",
              "    <tr style=\"text-align: right;\">\n",
              "      <th></th>\n",
              "      <th>rated</th>\n",
              "      <th>created_at</th>\n",
              "      <th>last_move_at</th>\n",
              "      <th>turns</th>\n",
              "      <th>victory_status</th>\n",
              "      <th>increment_code</th>\n",
              "      <th>white_rating</th>\n",
              "      <th>black_rating</th>\n",
              "      <th>moves</th>\n",
              "      <th>opening_eco</th>\n",
              "      <th>opening_name</th>\n",
              "      <th>opening_ply</th>\n",
              "      <th>winner</th>\n",
              "    </tr>\n",
              "  </thead>\n",
              "  <tbody>\n",
              "    <tr>\n",
              "      <th>0</th>\n",
              "      <td>0</td>\n",
              "      <td>1.500000e+12</td>\n",
              "      <td>1.500000e+12</td>\n",
              "      <td>13</td>\n",
              "      <td>0.536310</td>\n",
              "      <td>0.590001</td>\n",
              "      <td>1500</td>\n",
              "      <td>1191</td>\n",
              "      <td>0.646241</td>\n",
              "      <td>0.545460</td>\n",
              "      <td>0.486493</td>\n",
              "      <td>5</td>\n",
              "      <td>1</td>\n",
              "    </tr>\n",
              "    <tr>\n",
              "      <th>1</th>\n",
              "      <td>1</td>\n",
              "      <td>1.500000e+12</td>\n",
              "      <td>1.500000e+12</td>\n",
              "      <td>16</td>\n",
              "      <td>0.524267</td>\n",
              "      <td>0.554839</td>\n",
              "      <td>1322</td>\n",
              "      <td>1261</td>\n",
              "      <td>0.516132</td>\n",
              "      <td>0.689034</td>\n",
              "      <td>0.594546</td>\n",
              "      <td>4</td>\n",
              "      <td>0</td>\n",
              "    </tr>\n",
              "    <tr>\n",
              "      <th>2</th>\n",
              "      <td>1</td>\n",
              "      <td>1.500000e+12</td>\n",
              "      <td>1.500000e+12</td>\n",
              "      <td>61</td>\n",
              "      <td>0.528696</td>\n",
              "      <td>0.554839</td>\n",
              "      <td>1496</td>\n",
              "      <td>1500</td>\n",
              "      <td>0.646241</td>\n",
              "      <td>0.505185</td>\n",
              "      <td>0.487013</td>\n",
              "      <td>3</td>\n",
              "      <td>1</td>\n",
              "    </tr>\n",
              "    <tr>\n",
              "      <th>3</th>\n",
              "      <td>1</td>\n",
              "      <td>1.500000e+12</td>\n",
              "      <td>1.500000e+12</td>\n",
              "      <td>61</td>\n",
              "      <td>0.528696</td>\n",
              "      <td>0.582589</td>\n",
              "      <td>1439</td>\n",
              "      <td>1454</td>\n",
              "      <td>0.651016</td>\n",
              "      <td>0.599078</td>\n",
              "      <td>0.675432</td>\n",
              "      <td>3</td>\n",
              "      <td>1</td>\n",
              "    </tr>\n",
              "    <tr>\n",
              "      <th>4</th>\n",
              "      <td>1</td>\n",
              "      <td>1.500000e+12</td>\n",
              "      <td>1.500000e+12</td>\n",
              "      <td>95</td>\n",
              "      <td>0.528696</td>\n",
              "      <td>0.649829</td>\n",
              "      <td>1523</td>\n",
              "      <td>1469</td>\n",
              "      <td>0.651016</td>\n",
              "      <td>0.654124</td>\n",
              "      <td>0.755554</td>\n",
              "      <td>5</td>\n",
              "      <td>1</td>\n",
              "    </tr>\n",
              "    <tr>\n",
              "      <th>...</th>\n",
              "      <td>...</td>\n",
              "      <td>...</td>\n",
              "      <td>...</td>\n",
              "      <td>...</td>\n",
              "      <td>...</td>\n",
              "      <td>...</td>\n",
              "      <td>...</td>\n",
              "      <td>...</td>\n",
              "      <td>...</td>\n",
              "      <td>...</td>\n",
              "      <td>...</td>\n",
              "      <td>...</td>\n",
              "      <td>...</td>\n",
              "    </tr>\n",
              "    <tr>\n",
              "      <th>20053</th>\n",
              "      <td>1</td>\n",
              "      <td>1.499790e+12</td>\n",
              "      <td>1.499790e+12</td>\n",
              "      <td>24</td>\n",
              "      <td>0.524267</td>\n",
              "      <td>0.678873</td>\n",
              "      <td>1691</td>\n",
              "      <td>1220</td>\n",
              "      <td>0.646241</td>\n",
              "      <td>0.635102</td>\n",
              "      <td>0.603545</td>\n",
              "      <td>2</td>\n",
              "      <td>1</td>\n",
              "    </tr>\n",
              "    <tr>\n",
              "      <th>20054</th>\n",
              "      <td>1</td>\n",
              "      <td>1.499700e+12</td>\n",
              "      <td>1.499700e+12</td>\n",
              "      <td>82</td>\n",
              "      <td>0.528696</td>\n",
              "      <td>0.579718</td>\n",
              "      <td>1233</td>\n",
              "      <td>1196</td>\n",
              "      <td>0.516132</td>\n",
              "      <td>0.599973</td>\n",
              "      <td>0.736431</td>\n",
              "      <td>2</td>\n",
              "      <td>0</td>\n",
              "    </tr>\n",
              "    <tr>\n",
              "      <th>20055</th>\n",
              "      <td>1</td>\n",
              "      <td>1.499700e+12</td>\n",
              "      <td>1.499700e+12</td>\n",
              "      <td>35</td>\n",
              "      <td>0.528696</td>\n",
              "      <td>0.579718</td>\n",
              "      <td>1219</td>\n",
              "      <td>1286</td>\n",
              "      <td>0.646241</td>\n",
              "      <td>0.564276</td>\n",
              "      <td>0.612069</td>\n",
              "      <td>3</td>\n",
              "      <td>1</td>\n",
              "    </tr>\n",
              "    <tr>\n",
              "      <th>20056</th>\n",
              "      <td>1</td>\n",
              "      <td>1.499700e+12</td>\n",
              "      <td>1.499700e+12</td>\n",
              "      <td>109</td>\n",
              "      <td>0.524267</td>\n",
              "      <td>0.579718</td>\n",
              "      <td>1360</td>\n",
              "      <td>1227</td>\n",
              "      <td>0.646241</td>\n",
              "      <td>0.674342</td>\n",
              "      <td>0.536495</td>\n",
              "      <td>4</td>\n",
              "      <td>1</td>\n",
              "    </tr>\n",
              "    <tr>\n",
              "      <th>20057</th>\n",
              "      <td>1</td>\n",
              "      <td>1.499640e+12</td>\n",
              "      <td>1.499640e+12</td>\n",
              "      <td>78</td>\n",
              "      <td>0.528696</td>\n",
              "      <td>0.579718</td>\n",
              "      <td>1235</td>\n",
              "      <td>1339</td>\n",
              "      <td>0.516132</td>\n",
              "      <td>0.564276</td>\n",
              "      <td>0.612069</td>\n",
              "      <td>3</td>\n",
              "      <td>0</td>\n",
              "    </tr>\n",
              "  </tbody>\n",
              "</table>\n",
              "<p>20058 rows × 13 columns</p>\n",
              "</div>"
            ],
            "text/plain": [
              "       rated    created_at  last_move_at  turns  victory_status  \\\n",
              "0          0  1.500000e+12  1.500000e+12     13        0.536310   \n",
              "1          1  1.500000e+12  1.500000e+12     16        0.524267   \n",
              "2          1  1.500000e+12  1.500000e+12     61        0.528696   \n",
              "3          1  1.500000e+12  1.500000e+12     61        0.528696   \n",
              "4          1  1.500000e+12  1.500000e+12     95        0.528696   \n",
              "...      ...           ...           ...    ...             ...   \n",
              "20053      1  1.499790e+12  1.499790e+12     24        0.524267   \n",
              "20054      1  1.499700e+12  1.499700e+12     82        0.528696   \n",
              "20055      1  1.499700e+12  1.499700e+12     35        0.528696   \n",
              "20056      1  1.499700e+12  1.499700e+12    109        0.524267   \n",
              "20057      1  1.499640e+12  1.499640e+12     78        0.528696   \n",
              "\n",
              "       increment_code  white_rating  black_rating     moves  opening_eco  \\\n",
              "0            0.590001          1500          1191  0.646241     0.545460   \n",
              "1            0.554839          1322          1261  0.516132     0.689034   \n",
              "2            0.554839          1496          1500  0.646241     0.505185   \n",
              "3            0.582589          1439          1454  0.651016     0.599078   \n",
              "4            0.649829          1523          1469  0.651016     0.654124   \n",
              "...               ...           ...           ...       ...          ...   \n",
              "20053        0.678873          1691          1220  0.646241     0.635102   \n",
              "20054        0.579718          1233          1196  0.516132     0.599973   \n",
              "20055        0.579718          1219          1286  0.646241     0.564276   \n",
              "20056        0.579718          1360          1227  0.646241     0.674342   \n",
              "20057        0.579718          1235          1339  0.516132     0.564276   \n",
              "\n",
              "       opening_name  opening_ply  winner  \n",
              "0          0.486493            5       1  \n",
              "1          0.594546            4       0  \n",
              "2          0.487013            3       1  \n",
              "3          0.675432            3       1  \n",
              "4          0.755554            5       1  \n",
              "...             ...          ...     ...  \n",
              "20053      0.603545            2       1  \n",
              "20054      0.736431            2       0  \n",
              "20055      0.612069            3       1  \n",
              "20056      0.536495            4       1  \n",
              "20057      0.612069            3       0  \n",
              "\n",
              "[20058 rows x 13 columns]"
            ]
          },
          "execution_count": 24,
          "metadata": {},
          "output_type": "execute_result"
        }
      ],
      "source": [
        "df1"
      ]
    },
    {
      "cell_type": "markdown",
      "id": "5710b3a5",
      "metadata": {
        "id": "5710b3a5"
      },
      "source": [
        "USING HEATMAP FOR CHECK CORRELATION"
      ]
    },
    {
      "cell_type": "code",
      "execution_count": null,
      "id": "284ad23e",
      "metadata": {
        "id": "284ad23e",
        "outputId": "8c918233-cc1b-4260-980f-33c4910544c3"
      },
      "outputs": [
        {
          "data": {
            "text/plain": [
              "<AxesSubplot:>"
            ]
          },
          "execution_count": 25,
          "metadata": {},
          "output_type": "execute_result"
        },
        {
          "data": {
            "image/png": "[encoded data removed]",
            "text/plain": [
              "<Figure size 1500x1500 with 2 Axes>"
            ]
          },
          "metadata": {},
          "output_type": "display_data"
        }
      ],
      "source": [
        "plt.figure(figsize=(15,15))\n",
        "sns.heatmap(df1.corr(),annot=True)"
      ]
    },
    {
      "cell_type": "markdown",
      "id": "99a5de39",
      "metadata": {
        "id": "99a5de39"
      },
      "source": [
        "USING FEATURE SCALING FOR PARTICULAR COLUMNS (MINMAXSCALER)"
      ]
    },
    {
      "cell_type": "code",
      "execution_count": null,
      "id": "bc0d06f2",
      "metadata": {
        "id": "bc0d06f2"
      },
      "outputs": [],
      "source": [
        "Col1 = ['turns','white_rating','black_rating','opening_ply']"
      ]
    },
    {
      "cell_type": "code",
      "execution_count": null,
      "id": "05f394c7",
      "metadata": {
        "id": "05f394c7"
      },
      "outputs": [],
      "source": [
        "from sklearn.preprocessing import MinMaxScaler"
      ]
    },
    {
      "cell_type": "code",
      "execution_count": null,
      "id": "fdd2fc6c",
      "metadata": {
        "id": "fdd2fc6c"
      },
      "outputs": [],
      "source": [
        "Model2 = MinMaxScaler()"
      ]
    },
    {
      "cell_type": "code",
      "execution_count": null,
      "id": "685f22cc",
      "metadata": {
        "id": "685f22cc"
      },
      "outputs": [],
      "source": [
        "for i in Col1:\n",
        "    x[i] = Model2.fit_transform(x[[i]])"
      ]
    },
    {
      "cell_type": "code",
      "execution_count": null,
      "id": "9061cc30",
      "metadata": {
        "id": "9061cc30",
        "outputId": "6d92775c-df47-4bb6-e627-0e1ff50bbbdc"
      },
      "outputs": [
        {
          "data": {
            "text/html": [
              "<div>\n",
              "<style scoped>\n",
              "    .dataframe tbody tr th:only-of-type {\n",
              "        vertical-align: middle;\n",
              "    }\n",
              "\n",
              "    .dataframe tbody tr th {\n",
              "        vertical-align: top;\n",
              "    }\n",
              "\n",
              "    .dataframe thead th {\n",
              "        text-align: right;\n",
              "    }\n",
              "</style>\n",
              "<table border=\"1\" class=\"dataframe\">\n",
              "  <thead>\n",
              "    <tr style=\"text-align: right;\">\n",
              "      <th></th>\n",
              "      <th>rated</th>\n",
              "      <th>created_at</th>\n",
              "      <th>last_move_at</th>\n",
              "      <th>turns</th>\n",
              "      <th>victory_status</th>\n",
              "      <th>increment_code</th>\n",
              "      <th>white_rating</th>\n",
              "      <th>black_rating</th>\n",
              "      <th>moves</th>\n",
              "      <th>opening_eco</th>\n",
              "      <th>opening_name</th>\n",
              "      <th>opening_ply</th>\n",
              "      <th>winner</th>\n",
              "    </tr>\n",
              "  </thead>\n",
              "  <tbody>\n",
              "    <tr>\n",
              "      <th>0</th>\n",
              "      <td>0</td>\n",
              "      <td>1.500000e+12</td>\n",
              "      <td>1.500000e+12</td>\n",
              "      <td>0.034483</td>\n",
              "      <td>0.536310</td>\n",
              "      <td>0.590001</td>\n",
              "      <td>0.373695</td>\n",
              "      <td>0.207859</td>\n",
              "      <td>0.646241</td>\n",
              "      <td>0.545460</td>\n",
              "      <td>0.486493</td>\n",
              "      <td>0.148148</td>\n",
              "      <td>1</td>\n",
              "    </tr>\n",
              "    <tr>\n",
              "      <th>1</th>\n",
              "      <td>1</td>\n",
              "      <td>1.500000e+12</td>\n",
              "      <td>1.500000e+12</td>\n",
              "      <td>0.043103</td>\n",
              "      <td>0.524267</td>\n",
              "      <td>0.554839</td>\n",
              "      <td>0.280793</td>\n",
              "      <td>0.244054</td>\n",
              "      <td>0.516132</td>\n",
              "      <td>0.689034</td>\n",
              "      <td>0.594546</td>\n",
              "      <td>0.111111</td>\n",
              "      <td>0</td>\n",
              "    </tr>\n",
              "    <tr>\n",
              "      <th>2</th>\n",
              "      <td>1</td>\n",
              "      <td>1.500000e+12</td>\n",
              "      <td>1.500000e+12</td>\n",
              "      <td>0.172414</td>\n",
              "      <td>0.528696</td>\n",
              "      <td>0.554839</td>\n",
              "      <td>0.371608</td>\n",
              "      <td>0.367632</td>\n",
              "      <td>0.646241</td>\n",
              "      <td>0.505185</td>\n",
              "      <td>0.487013</td>\n",
              "      <td>0.074074</td>\n",
              "      <td>1</td>\n",
              "    </tr>\n",
              "    <tr>\n",
              "      <th>3</th>\n",
              "      <td>1</td>\n",
              "      <td>1.500000e+12</td>\n",
              "      <td>1.500000e+12</td>\n",
              "      <td>0.172414</td>\n",
              "      <td>0.528696</td>\n",
              "      <td>0.582589</td>\n",
              "      <td>0.341858</td>\n",
              "      <td>0.343847</td>\n",
              "      <td>0.651016</td>\n",
              "      <td>0.599078</td>\n",
              "      <td>0.675432</td>\n",
              "      <td>0.074074</td>\n",
              "      <td>1</td>\n",
              "    </tr>\n",
              "    <tr>\n",
              "      <th>4</th>\n",
              "      <td>1</td>\n",
              "      <td>1.500000e+12</td>\n",
              "      <td>1.500000e+12</td>\n",
              "      <td>0.270115</td>\n",
              "      <td>0.528696</td>\n",
              "      <td>0.649829</td>\n",
              "      <td>0.385699</td>\n",
              "      <td>0.351603</td>\n",
              "      <td>0.651016</td>\n",
              "      <td>0.654124</td>\n",
              "      <td>0.755554</td>\n",
              "      <td>0.148148</td>\n",
              "      <td>1</td>\n",
              "    </tr>\n",
              "    <tr>\n",
              "      <th>...</th>\n",
              "      <td>...</td>\n",
              "      <td>...</td>\n",
              "      <td>...</td>\n",
              "      <td>...</td>\n",
              "      <td>...</td>\n",
              "      <td>...</td>\n",
              "      <td>...</td>\n",
              "      <td>...</td>\n",
              "      <td>...</td>\n",
              "      <td>...</td>\n",
              "      <td>...</td>\n",
              "      <td>...</td>\n",
              "      <td>...</td>\n",
              "    </tr>\n",
              "    <tr>\n",
              "      <th>20053</th>\n",
              "      <td>1</td>\n",
              "      <td>1.499790e+12</td>\n",
              "      <td>1.499790e+12</td>\n",
              "      <td>0.066092</td>\n",
              "      <td>0.524267</td>\n",
              "      <td>0.678873</td>\n",
              "      <td>0.473382</td>\n",
              "      <td>0.222854</td>\n",
              "      <td>0.646241</td>\n",
              "      <td>0.635102</td>\n",
              "      <td>0.603545</td>\n",
              "      <td>0.037037</td>\n",
              "      <td>1</td>\n",
              "    </tr>\n",
              "    <tr>\n",
              "      <th>20054</th>\n",
              "      <td>1</td>\n",
              "      <td>1.499700e+12</td>\n",
              "      <td>1.499700e+12</td>\n",
              "      <td>0.232759</td>\n",
              "      <td>0.528696</td>\n",
              "      <td>0.579718</td>\n",
              "      <td>0.234342</td>\n",
              "      <td>0.210445</td>\n",
              "      <td>0.516132</td>\n",
              "      <td>0.599973</td>\n",
              "      <td>0.736431</td>\n",
              "      <td>0.037037</td>\n",
              "      <td>0</td>\n",
              "    </tr>\n",
              "    <tr>\n",
              "      <th>20055</th>\n",
              "      <td>1</td>\n",
              "      <td>1.499700e+12</td>\n",
              "      <td>1.499700e+12</td>\n",
              "      <td>0.097701</td>\n",
              "      <td>0.528696</td>\n",
              "      <td>0.579718</td>\n",
              "      <td>0.227035</td>\n",
              "      <td>0.256980</td>\n",
              "      <td>0.646241</td>\n",
              "      <td>0.564276</td>\n",
              "      <td>0.612069</td>\n",
              "      <td>0.074074</td>\n",
              "      <td>1</td>\n",
              "    </tr>\n",
              "    <tr>\n",
              "      <th>20056</th>\n",
              "      <td>1</td>\n",
              "      <td>1.499700e+12</td>\n",
              "      <td>1.499700e+12</td>\n",
              "      <td>0.310345</td>\n",
              "      <td>0.524267</td>\n",
              "      <td>0.579718</td>\n",
              "      <td>0.300626</td>\n",
              "      <td>0.226474</td>\n",
              "      <td>0.646241</td>\n",
              "      <td>0.674342</td>\n",
              "      <td>0.536495</td>\n",
              "      <td>0.111111</td>\n",
              "      <td>1</td>\n",
              "    </tr>\n",
              "    <tr>\n",
              "      <th>20057</th>\n",
              "      <td>1</td>\n",
              "      <td>1.499640e+12</td>\n",
              "      <td>1.499640e+12</td>\n",
              "      <td>0.221264</td>\n",
              "      <td>0.528696</td>\n",
              "      <td>0.579718</td>\n",
              "      <td>0.235386</td>\n",
              "      <td>0.284385</td>\n",
              "      <td>0.516132</td>\n",
              "      <td>0.564276</td>\n",
              "      <td>0.612069</td>\n",
              "      <td>0.074074</td>\n",
              "      <td>0</td>\n",
              "    </tr>\n",
              "  </tbody>\n",
              "</table>\n",
              "<p>20058 rows × 13 columns</p>\n",
              "</div>"
            ],
            "text/plain": [
              "       rated    created_at  last_move_at     turns  victory_status  \\\n",
              "0          0  1.500000e+12  1.500000e+12  0.034483        0.536310   \n",
              "1          1  1.500000e+12  1.500000e+12  0.043103        0.524267   \n",
              "2          1  1.500000e+12  1.500000e+12  0.172414        0.528696   \n",
              "3          1  1.500000e+12  1.500000e+12  0.172414        0.528696   \n",
              "4          1  1.500000e+12  1.500000e+12  0.270115        0.528696   \n",
              "...      ...           ...           ...       ...             ...   \n",
              "20053      1  1.499790e+12  1.499790e+12  0.066092        0.524267   \n",
              "20054      1  1.499700e+12  1.499700e+12  0.232759        0.528696   \n",
              "20055      1  1.499700e+12  1.499700e+12  0.097701        0.528696   \n",
              "20056      1  1.499700e+12  1.499700e+12  0.310345        0.524267   \n",
              "20057      1  1.499640e+12  1.499640e+12  0.221264        0.528696   \n",
              "\n",
              "       increment_code  white_rating  black_rating     moves  opening_eco  \\\n",
              "0            0.590001      0.373695      0.207859  0.646241     0.545460   \n",
              "1            0.554839      0.280793      0.244054  0.516132     0.689034   \n",
              "2            0.554839      0.371608      0.367632  0.646241     0.505185   \n",
              "3            0.582589      0.341858      0.343847  0.651016     0.599078   \n",
              "4            0.649829      0.385699      0.351603  0.651016     0.654124   \n",
              "...               ...           ...           ...       ...          ...   \n",
              "20053        0.678873      0.473382      0.222854  0.646241     0.635102   \n",
              "20054        0.579718      0.234342      0.210445  0.516132     0.599973   \n",
              "20055        0.579718      0.227035      0.256980  0.646241     0.564276   \n",
              "20056        0.579718      0.300626      0.226474  0.646241     0.674342   \n",
              "20057        0.579718      0.235386      0.284385  0.516132     0.564276   \n",
              "\n",
              "       opening_name  opening_ply  winner  \n",
              "0          0.486493     0.148148       1  \n",
              "1          0.594546     0.111111       0  \n",
              "2          0.487013     0.074074       1  \n",
              "3          0.675432     0.074074       1  \n",
              "4          0.755554     0.148148       1  \n",
              "...             ...          ...     ...  \n",
              "20053      0.603545     0.037037       1  \n",
              "20054      0.736431     0.037037       0  \n",
              "20055      0.612069     0.074074       1  \n",
              "20056      0.536495     0.111111       1  \n",
              "20057      0.612069     0.074074       0  \n",
              "\n",
              "[20058 rows x 13 columns]"
            ]
          },
          "execution_count": 30,
          "metadata": {},
          "output_type": "execute_result"
        }
      ],
      "source": [
        "x"
      ]
    },
    {
      "cell_type": "code",
      "execution_count": null,
      "id": "4c3e5b7d",
      "metadata": {
        "id": "4c3e5b7d"
      },
      "outputs": [],
      "source": [
        "X = x.drop(['created_at','last_move_at'],axis=1)"
      ]
    },
    {
      "cell_type": "code",
      "execution_count": null,
      "id": "ae301cd3",
      "metadata": {
        "scrolled": true,
        "id": "ae301cd3",
        "outputId": "ac3a3b44-7a19-40ae-e041-b896cffbf613"
      },
      "outputs": [
        {
          "data": {
            "text/html": [
              "<div>\n",
              "<style scoped>\n",
              "    .dataframe tbody tr th:only-of-type {\n",
              "        vertical-align: middle;\n",
              "    }\n",
              "\n",
              "    .dataframe tbody tr th {\n",
              "        vertical-align: top;\n",
              "    }\n",
              "\n",
              "    .dataframe thead th {\n",
              "        text-align: right;\n",
              "    }\n",
              "</style>\n",
              "<table border=\"1\" class=\"dataframe\">\n",
              "  <thead>\n",
              "    <tr style=\"text-align: right;\">\n",
              "      <th></th>\n",
              "      <th>rated</th>\n",
              "      <th>turns</th>\n",
              "      <th>victory_status</th>\n",
              "      <th>increment_code</th>\n",
              "      <th>white_rating</th>\n",
              "      <th>black_rating</th>\n",
              "      <th>moves</th>\n",
              "      <th>opening_eco</th>\n",
              "      <th>opening_name</th>\n",
              "      <th>opening_ply</th>\n",
              "      <th>winner</th>\n",
              "    </tr>\n",
              "  </thead>\n",
              "  <tbody>\n",
              "    <tr>\n",
              "      <th>0</th>\n",
              "      <td>0</td>\n",
              "      <td>0.034483</td>\n",
              "      <td>0.536310</td>\n",
              "      <td>0.590001</td>\n",
              "      <td>0.373695</td>\n",
              "      <td>0.207859</td>\n",
              "      <td>0.646241</td>\n",
              "      <td>0.545460</td>\n",
              "      <td>0.486493</td>\n",
              "      <td>0.148148</td>\n",
              "      <td>1</td>\n",
              "    </tr>\n",
              "    <tr>\n",
              "      <th>1</th>\n",
              "      <td>1</td>\n",
              "      <td>0.043103</td>\n",
              "      <td>0.524267</td>\n",
              "      <td>0.554839</td>\n",
              "      <td>0.280793</td>\n",
              "      <td>0.244054</td>\n",
              "      <td>0.516132</td>\n",
              "      <td>0.689034</td>\n",
              "      <td>0.594546</td>\n",
              "      <td>0.111111</td>\n",
              "      <td>0</td>\n",
              "    </tr>\n",
              "    <tr>\n",
              "      <th>2</th>\n",
              "      <td>1</td>\n",
              "      <td>0.172414</td>\n",
              "      <td>0.528696</td>\n",
              "      <td>0.554839</td>\n",
              "      <td>0.371608</td>\n",
              "      <td>0.367632</td>\n",
              "      <td>0.646241</td>\n",
              "      <td>0.505185</td>\n",
              "      <td>0.487013</td>\n",
              "      <td>0.074074</td>\n",
              "      <td>1</td>\n",
              "    </tr>\n",
              "    <tr>\n",
              "      <th>3</th>\n",
              "      <td>1</td>\n",
              "      <td>0.172414</td>\n",
              "      <td>0.528696</td>\n",
              "      <td>0.582589</td>\n",
              "      <td>0.341858</td>\n",
              "      <td>0.343847</td>\n",
              "      <td>0.651016</td>\n",
              "      <td>0.599078</td>\n",
              "      <td>0.675432</td>\n",
              "      <td>0.074074</td>\n",
              "      <td>1</td>\n",
              "    </tr>\n",
              "    <tr>\n",
              "      <th>4</th>\n",
              "      <td>1</td>\n",
              "      <td>0.270115</td>\n",
              "      <td>0.528696</td>\n",
              "      <td>0.649829</td>\n",
              "      <td>0.385699</td>\n",
              "      <td>0.351603</td>\n",
              "      <td>0.651016</td>\n",
              "      <td>0.654124</td>\n",
              "      <td>0.755554</td>\n",
              "      <td>0.148148</td>\n",
              "      <td>1</td>\n",
              "    </tr>\n",
              "    <tr>\n",
              "      <th>...</th>\n",
              "      <td>...</td>\n",
              "      <td>...</td>\n",
              "      <td>...</td>\n",
              "      <td>...</td>\n",
              "      <td>...</td>\n",
              "      <td>...</td>\n",
              "      <td>...</td>\n",
              "      <td>...</td>\n",
              "      <td>...</td>\n",
              "      <td>...</td>\n",
              "      <td>...</td>\n",
              "    </tr>\n",
              "    <tr>\n",
              "      <th>20053</th>\n",
              "      <td>1</td>\n",
              "      <td>0.066092</td>\n",
              "      <td>0.524267</td>\n",
              "      <td>0.678873</td>\n",
              "      <td>0.473382</td>\n",
              "      <td>0.222854</td>\n",
              "      <td>0.646241</td>\n",
              "      <td>0.635102</td>\n",
              "      <td>0.603545</td>\n",
              "      <td>0.037037</td>\n",
              "      <td>1</td>\n",
              "    </tr>\n",
              "    <tr>\n",
              "      <th>20054</th>\n",
              "      <td>1</td>\n",
              "      <td>0.232759</td>\n",
              "      <td>0.528696</td>\n",
              "      <td>0.579718</td>\n",
              "      <td>0.234342</td>\n",
              "      <td>0.210445</td>\n",
              "      <td>0.516132</td>\n",
              "      <td>0.599973</td>\n",
              "      <td>0.736431</td>\n",
              "      <td>0.037037</td>\n",
              "      <td>0</td>\n",
              "    </tr>\n",
              "    <tr>\n",
              "      <th>20055</th>\n",
              "      <td>1</td>\n",
              "      <td>0.097701</td>\n",
              "      <td>0.528696</td>\n",
              "      <td>0.579718</td>\n",
              "      <td>0.227035</td>\n",
              "      <td>0.256980</td>\n",
              "      <td>0.646241</td>\n",
              "      <td>0.564276</td>\n",
              "      <td>0.612069</td>\n",
              "      <td>0.074074</td>\n",
              "      <td>1</td>\n",
              "    </tr>\n",
              "    <tr>\n",
              "      <th>20056</th>\n",
              "      <td>1</td>\n",
              "      <td>0.310345</td>\n",
              "      <td>0.524267</td>\n",
              "      <td>0.579718</td>\n",
              "      <td>0.300626</td>\n",
              "      <td>0.226474</td>\n",
              "      <td>0.646241</td>\n",
              "      <td>0.674342</td>\n",
              "      <td>0.536495</td>\n",
              "      <td>0.111111</td>\n",
              "      <td>1</td>\n",
              "    </tr>\n",
              "    <tr>\n",
              "      <th>20057</th>\n",
              "      <td>1</td>\n",
              "      <td>0.221264</td>\n",
              "      <td>0.528696</td>\n",
              "      <td>0.579718</td>\n",
              "      <td>0.235386</td>\n",
              "      <td>0.284385</td>\n",
              "      <td>0.516132</td>\n",
              "      <td>0.564276</td>\n",
              "      <td>0.612069</td>\n",
              "      <td>0.074074</td>\n",
              "      <td>0</td>\n",
              "    </tr>\n",
              "  </tbody>\n",
              "</table>\n",
              "<p>20058 rows × 11 columns</p>\n",
              "</div>"
            ],
            "text/plain": [
              "       rated     turns  victory_status  increment_code  white_rating  \\\n",
              "0          0  0.034483        0.536310        0.590001      0.373695   \n",
              "1          1  0.043103        0.524267        0.554839      0.280793   \n",
              "2          1  0.172414        0.528696        0.554839      0.371608   \n",
              "3          1  0.172414        0.528696        0.582589      0.341858   \n",
              "4          1  0.270115        0.528696        0.649829      0.385699   \n",
              "...      ...       ...             ...             ...           ...   \n",
              "20053      1  0.066092        0.524267        0.678873      0.473382   \n",
              "20054      1  0.232759        0.528696        0.579718      0.234342   \n",
              "20055      1  0.097701        0.528696        0.579718      0.227035   \n",
              "20056      1  0.310345        0.524267        0.579718      0.300626   \n",
              "20057      1  0.221264        0.528696        0.579718      0.235386   \n",
              "\n",
              "       black_rating     moves  opening_eco  opening_name  opening_ply  winner  \n",
              "0          0.207859  0.646241     0.545460      0.486493     0.148148       1  \n",
              "1          0.244054  0.516132     0.689034      0.594546     0.111111       0  \n",
              "2          0.367632  0.646241     0.505185      0.487013     0.074074       1  \n",
              "3          0.343847  0.651016     0.599078      0.675432     0.074074       1  \n",
              "4          0.351603  0.651016     0.654124      0.755554     0.148148       1  \n",
              "...             ...       ...          ...           ...          ...     ...  \n",
              "20053      0.222854  0.646241     0.635102      0.603545     0.037037       1  \n",
              "20054      0.210445  0.516132     0.599973      0.736431     0.037037       0  \n",
              "20055      0.256980  0.646241     0.564276      0.612069     0.074074       1  \n",
              "20056      0.226474  0.646241     0.674342      0.536495     0.111111       1  \n",
              "20057      0.284385  0.516132     0.564276      0.612069     0.074074       0  \n",
              "\n",
              "[20058 rows x 11 columns]"
            ]
          },
          "execution_count": 32,
          "metadata": {},
          "output_type": "execute_result"
        }
      ],
      "source": [
        "X"
      ]
    },
    {
      "cell_type": "markdown",
      "id": "70a25069",
      "metadata": {
        "id": "70a25069"
      },
      "source": [
        "TO DESCRIBE THE VALUES AFTER FEATURE SCALING AND FEATURE ENGINEERING"
      ]
    },
    {
      "cell_type": "code",
      "execution_count": null,
      "id": "575fd199",
      "metadata": {
        "id": "575fd199",
        "outputId": "b63253ee-80e0-40f4-dd2a-1aea76f30d80"
      },
      "outputs": [
        {
          "data": {
            "text/html": [
              "<div>\n",
              "<style scoped>\n",
              "    .dataframe tbody tr th:only-of-type {\n",
              "        vertical-align: middle;\n",
              "    }\n",
              "\n",
              "    .dataframe tbody tr th {\n",
              "        vertical-align: top;\n",
              "    }\n",
              "\n",
              "    .dataframe thead th {\n",
              "        text-align: right;\n",
              "    }\n",
              "</style>\n",
              "<table border=\"1\" class=\"dataframe\">\n",
              "  <thead>\n",
              "    <tr style=\"text-align: right;\">\n",
              "      <th></th>\n",
              "      <th>rated</th>\n",
              "      <th>turns</th>\n",
              "      <th>victory_status</th>\n",
              "      <th>increment_code</th>\n",
              "      <th>white_rating</th>\n",
              "      <th>black_rating</th>\n",
              "      <th>moves</th>\n",
              "      <th>opening_eco</th>\n",
              "      <th>opening_name</th>\n",
              "      <th>opening_ply</th>\n",
              "      <th>winner</th>\n",
              "    </tr>\n",
              "  </thead>\n",
              "  <tbody>\n",
              "    <tr>\n",
              "      <th>count</th>\n",
              "      <td>20058.000000</td>\n",
              "      <td>20058.000000</td>\n",
              "      <td>20058.000000</td>\n",
              "      <td>20058.000000</td>\n",
              "      <td>20058.000000</td>\n",
              "      <td>20058.000000</td>\n",
              "      <td>20058.000000</td>\n",
              "      <td>20058.000000</td>\n",
              "      <td>20058.000000</td>\n",
              "      <td>20058.000000</td>\n",
              "      <td>20058.000000</td>\n",
              "    </tr>\n",
              "    <tr>\n",
              "      <th>mean</th>\n",
              "      <td>0.805414</td>\n",
              "      <td>0.170879</td>\n",
              "      <td>0.593329</td>\n",
              "      <td>0.591816</td>\n",
              "      <td>0.424129</td>\n",
              "      <td>0.413564</td>\n",
              "      <td>0.592917</td>\n",
              "      <td>0.590812</td>\n",
              "      <td>0.590605</td>\n",
              "      <td>0.141370</td>\n",
              "      <td>0.593329</td>\n",
              "    </tr>\n",
              "    <tr>\n",
              "      <th>std</th>\n",
              "      <td>0.395891</td>\n",
              "      <td>0.096467</td>\n",
              "      <td>0.305977</td>\n",
              "      <td>0.044639</td>\n",
              "      <td>0.152011</td>\n",
              "      <td>0.150484</td>\n",
              "      <td>0.077817</td>\n",
              "      <td>0.072510</td>\n",
              "      <td>0.086215</td>\n",
              "      <td>0.103598</td>\n",
              "      <td>0.579682</td>\n",
              "    </tr>\n",
              "    <tr>\n",
              "      <th>min</th>\n",
              "      <td>0.000000</td>\n",
              "      <td>0.000000</td>\n",
              "      <td>0.524267</td>\n",
              "      <td>0.421979</td>\n",
              "      <td>0.000000</td>\n",
              "      <td>0.000000</td>\n",
              "      <td>0.271117</td>\n",
              "      <td>0.362837</td>\n",
              "      <td>0.328660</td>\n",
              "      <td>0.000000</td>\n",
              "      <td>0.000000</td>\n",
              "    </tr>\n",
              "    <tr>\n",
              "      <th>25%</th>\n",
              "      <td>1.000000</td>\n",
              "      <td>0.103448</td>\n",
              "      <td>0.524267</td>\n",
              "      <td>0.579718</td>\n",
              "      <td>0.320459</td>\n",
              "      <td>0.311272</td>\n",
              "      <td>0.516132</td>\n",
              "      <td>0.553097</td>\n",
              "      <td>0.528705</td>\n",
              "      <td>0.074074</td>\n",
              "      <td>0.000000</td>\n",
              "    </tr>\n",
              "    <tr>\n",
              "      <th>50%</th>\n",
              "      <td>1.000000</td>\n",
              "      <td>0.155172</td>\n",
              "      <td>0.524267</td>\n",
              "      <td>0.579718</td>\n",
              "      <td>0.408664</td>\n",
              "      <td>0.399690</td>\n",
              "      <td>0.646241</td>\n",
              "      <td>0.584123</td>\n",
              "      <td>0.589552</td>\n",
              "      <td>0.111111</td>\n",
              "      <td>1.000000</td>\n",
              "    </tr>\n",
              "    <tr>\n",
              "      <th>75%</th>\n",
              "      <td>1.000000</td>\n",
              "      <td>0.224138</td>\n",
              "      <td>0.528696</td>\n",
              "      <td>0.592141</td>\n",
              "      <td>0.526618</td>\n",
              "      <td>0.514478</td>\n",
              "      <td>0.646241</td>\n",
              "      <td>0.640449</td>\n",
              "      <td>0.650000</td>\n",
              "      <td>0.185185</td>\n",
              "      <td>1.000000</td>\n",
              "    </tr>\n",
              "    <tr>\n",
              "      <th>max</th>\n",
              "      <td>1.000000</td>\n",
              "      <td>1.000000</td>\n",
              "      <td>2.000000</td>\n",
              "      <td>0.905565</td>\n",
              "      <td>1.000000</td>\n",
              "      <td>1.000000</td>\n",
              "      <td>0.810611</td>\n",
              "      <td>0.843384</td>\n",
              "      <td>0.851426</td>\n",
              "      <td>1.000000</td>\n",
              "      <td>2.000000</td>\n",
              "    </tr>\n",
              "  </tbody>\n",
              "</table>\n",
              "</div>"
            ],
            "text/plain": [
              "              rated         turns  victory_status  increment_code  \\\n",
              "count  20058.000000  20058.000000    20058.000000    20058.000000   \n",
              "mean       0.805414      0.170879        0.593329        0.591816   \n",
              "std        0.395891      0.096467        0.305977        0.044639   \n",
              "min        0.000000      0.000000        0.524267        0.421979   \n",
              "25%        1.000000      0.103448        0.524267        0.579718   \n",
              "50%        1.000000      0.155172        0.524267        0.579718   \n",
              "75%        1.000000      0.224138        0.528696        0.592141   \n",
              "max        1.000000      1.000000        2.000000        0.905565   \n",
              "\n",
              "       white_rating  black_rating         moves   opening_eco  opening_name  \\\n",
              "count  20058.000000  20058.000000  20058.000000  20058.000000  20058.000000   \n",
              "mean       0.424129      0.413564      0.592917      0.590812      0.590605   \n",
              "std        0.152011      0.150484      0.077817      0.072510      0.086215   \n",
              "min        0.000000      0.000000      0.271117      0.362837      0.328660   \n",
              "25%        0.320459      0.311272      0.516132      0.553097      0.528705   \n",
              "50%        0.408664      0.399690      0.646241      0.584123      0.589552   \n",
              "75%        0.526618      0.514478      0.646241      0.640449      0.650000   \n",
              "max        1.000000      1.000000      0.810611      0.843384      0.851426   \n",
              "\n",
              "        opening_ply        winner  \n",
              "count  20058.000000  20058.000000  \n",
              "mean       0.141370      0.593329  \n",
              "std        0.103598      0.579682  \n",
              "min        0.000000      0.000000  \n",
              "25%        0.074074      0.000000  \n",
              "50%        0.111111      1.000000  \n",
              "75%        0.185185      1.000000  \n",
              "max        1.000000      2.000000  "
            ]
          },
          "execution_count": 33,
          "metadata": {},
          "output_type": "execute_result"
        }
      ],
      "source": [
        "X.describe()"
      ]
    },
    {
      "cell_type": "markdown",
      "id": "a6e4f8bf",
      "metadata": {
        "id": "a6e4f8bf"
      },
      "source": [
        "TO CHECK CORRELATION USING HEATMAP THE VALUES AFTER FEATURE SCALING AND FEATURE ENGINEERING"
      ]
    },
    {
      "cell_type": "code",
      "execution_count": null,
      "id": "9b897d1b",
      "metadata": {
        "id": "9b897d1b",
        "outputId": "cca144d0-b957-487d-89c6-b29973852f73"
      },
      "outputs": [
        {
          "data": {
            "text/plain": [
              "<AxesSubplot:>"
            ]
          },
          "execution_count": 34,
          "metadata": {},
          "output_type": "execute_result"
        },
        {
          "data": {
            "image/png": "[encoded data removed]",
            "text/plain": [
              "<Figure size 1500x1500 with 2 Axes>"
            ]
          },
          "metadata": {},
          "output_type": "display_data"
        }
      ],
      "source": [
        "plt.figure(figsize=(15,15))\n",
        "sns.heatmap(X.corr(),annot=True)"
      ]
    },
    {
      "cell_type": "code",
      "execution_count": null,
      "id": "cd50a674",
      "metadata": {
        "id": "cd50a674"
      },
      "outputs": [],
      "source": [
        "Y =x['winner']"
      ]
    },
    {
      "cell_type": "code",
      "execution_count": null,
      "id": "7d3bcf8d",
      "metadata": {
        "id": "7d3bcf8d",
        "outputId": "5119d166-64b4-40ba-fdab-2d1c86732384"
      },
      "outputs": [
        {
          "data": {
            "text/plain": [
              "0        1\n",
              "1        0\n",
              "2        1\n",
              "3        1\n",
              "4        1\n",
              "        ..\n",
              "20053    1\n",
              "20054    0\n",
              "20055    1\n",
              "20056    1\n",
              "20057    0\n",
              "Name: winner, Length: 20058, dtype: int64"
            ]
          },
          "execution_count": 36,
          "metadata": {},
          "output_type": "execute_result"
        }
      ],
      "source": [
        "Y"
      ]
    },
    {
      "cell_type": "code",
      "execution_count": null,
      "id": "ee9cc53a",
      "metadata": {
        "id": "ee9cc53a"
      },
      "outputs": [],
      "source": [
        "X.drop('winner',axis=1,inplace=True)"
      ]
    },
    {
      "cell_type": "code",
      "execution_count": null,
      "id": "afb8d2f5",
      "metadata": {
        "id": "afb8d2f5",
        "outputId": "c8efb705-0105-4fa2-a0cc-a1d939d59d25"
      },
      "outputs": [
        {
          "data": {
            "text/html": [
              "<div>\n",
              "<style scoped>\n",
              "    .dataframe tbody tr th:only-of-type {\n",
              "        vertical-align: middle;\n",
              "    }\n",
              "\n",
              "    .dataframe tbody tr th {\n",
              "        vertical-align: top;\n",
              "    }\n",
              "\n",
              "    .dataframe thead th {\n",
              "        text-align: right;\n",
              "    }\n",
              "</style>\n",
              "<table border=\"1\" class=\"dataframe\">\n",
              "  <thead>\n",
              "    <tr style=\"text-align: right;\">\n",
              "      <th></th>\n",
              "      <th>rated</th>\n",
              "      <th>turns</th>\n",
              "      <th>victory_status</th>\n",
              "      <th>increment_code</th>\n",
              "      <th>white_rating</th>\n",
              "      <th>black_rating</th>\n",
              "      <th>moves</th>\n",
              "      <th>opening_eco</th>\n",
              "      <th>opening_name</th>\n",
              "      <th>opening_ply</th>\n",
              "    </tr>\n",
              "  </thead>\n",
              "  <tbody>\n",
              "    <tr>\n",
              "      <th>0</th>\n",
              "      <td>0</td>\n",
              "      <td>0.034483</td>\n",
              "      <td>0.536310</td>\n",
              "      <td>0.590001</td>\n",
              "      <td>0.373695</td>\n",
              "      <td>0.207859</td>\n",
              "      <td>0.646241</td>\n",
              "      <td>0.545460</td>\n",
              "      <td>0.486493</td>\n",
              "      <td>0.148148</td>\n",
              "    </tr>\n",
              "    <tr>\n",
              "      <th>1</th>\n",
              "      <td>1</td>\n",
              "      <td>0.043103</td>\n",
              "      <td>0.524267</td>\n",
              "      <td>0.554839</td>\n",
              "      <td>0.280793</td>\n",
              "      <td>0.244054</td>\n",
              "      <td>0.516132</td>\n",
              "      <td>0.689034</td>\n",
              "      <td>0.594546</td>\n",
              "      <td>0.111111</td>\n",
              "    </tr>\n",
              "    <tr>\n",
              "      <th>2</th>\n",
              "      <td>1</td>\n",
              "      <td>0.172414</td>\n",
              "      <td>0.528696</td>\n",
              "      <td>0.554839</td>\n",
              "      <td>0.371608</td>\n",
              "      <td>0.367632</td>\n",
              "      <td>0.646241</td>\n",
              "      <td>0.505185</td>\n",
              "      <td>0.487013</td>\n",
              "      <td>0.074074</td>\n",
              "    </tr>\n",
              "    <tr>\n",
              "      <th>3</th>\n",
              "      <td>1</td>\n",
              "      <td>0.172414</td>\n",
              "      <td>0.528696</td>\n",
              "      <td>0.582589</td>\n",
              "      <td>0.341858</td>\n",
              "      <td>0.343847</td>\n",
              "      <td>0.651016</td>\n",
              "      <td>0.599078</td>\n",
              "      <td>0.675432</td>\n",
              "      <td>0.074074</td>\n",
              "    </tr>\n",
              "    <tr>\n",
              "      <th>4</th>\n",
              "      <td>1</td>\n",
              "      <td>0.270115</td>\n",
              "      <td>0.528696</td>\n",
              "      <td>0.649829</td>\n",
              "      <td>0.385699</td>\n",
              "      <td>0.351603</td>\n",
              "      <td>0.651016</td>\n",
              "      <td>0.654124</td>\n",
              "      <td>0.755554</td>\n",
              "      <td>0.148148</td>\n",
              "    </tr>\n",
              "    <tr>\n",
              "      <th>...</th>\n",
              "      <td>...</td>\n",
              "      <td>...</td>\n",
              "      <td>...</td>\n",
              "      <td>...</td>\n",
              "      <td>...</td>\n",
              "      <td>...</td>\n",
              "      <td>...</td>\n",
              "      <td>...</td>\n",
              "      <td>...</td>\n",
              "      <td>...</td>\n",
              "    </tr>\n",
              "    <tr>\n",
              "      <th>20053</th>\n",
              "      <td>1</td>\n",
              "      <td>0.066092</td>\n",
              "      <td>0.524267</td>\n",
              "      <td>0.678873</td>\n",
              "      <td>0.473382</td>\n",
              "      <td>0.222854</td>\n",
              "      <td>0.646241</td>\n",
              "      <td>0.635102</td>\n",
              "      <td>0.603545</td>\n",
              "      <td>0.037037</td>\n",
              "    </tr>\n",
              "    <tr>\n",
              "      <th>20054</th>\n",
              "      <td>1</td>\n",
              "      <td>0.232759</td>\n",
              "      <td>0.528696</td>\n",
              "      <td>0.579718</td>\n",
              "      <td>0.234342</td>\n",
              "      <td>0.210445</td>\n",
              "      <td>0.516132</td>\n",
              "      <td>0.599973</td>\n",
              "      <td>0.736431</td>\n",
              "      <td>0.037037</td>\n",
              "    </tr>\n",
              "    <tr>\n",
              "      <th>20055</th>\n",
              "      <td>1</td>\n",
              "      <td>0.097701</td>\n",
              "      <td>0.528696</td>\n",
              "      <td>0.579718</td>\n",
              "      <td>0.227035</td>\n",
              "      <td>0.256980</td>\n",
              "      <td>0.646241</td>\n",
              "      <td>0.564276</td>\n",
              "      <td>0.612069</td>\n",
              "      <td>0.074074</td>\n",
              "    </tr>\n",
              "    <tr>\n",
              "      <th>20056</th>\n",
              "      <td>1</td>\n",
              "      <td>0.310345</td>\n",
              "      <td>0.524267</td>\n",
              "      <td>0.579718</td>\n",
              "      <td>0.300626</td>\n",
              "      <td>0.226474</td>\n",
              "      <td>0.646241</td>\n",
              "      <td>0.674342</td>\n",
              "      <td>0.536495</td>\n",
              "      <td>0.111111</td>\n",
              "    </tr>\n",
              "    <tr>\n",
              "      <th>20057</th>\n",
              "      <td>1</td>\n",
              "      <td>0.221264</td>\n",
              "      <td>0.528696</td>\n",
              "      <td>0.579718</td>\n",
              "      <td>0.235386</td>\n",
              "      <td>0.284385</td>\n",
              "      <td>0.516132</td>\n",
              "      <td>0.564276</td>\n",
              "      <td>0.612069</td>\n",
              "      <td>0.074074</td>\n",
              "    </tr>\n",
              "  </tbody>\n",
              "</table>\n",
              "<p>20058 rows × 10 columns</p>\n",
              "</div>"
            ],
            "text/plain": [
              "       rated     turns  victory_status  increment_code  white_rating  \\\n",
              "0          0  0.034483        0.536310        0.590001      0.373695   \n",
              "1          1  0.043103        0.524267        0.554839      0.280793   \n",
              "2          1  0.172414        0.528696        0.554839      0.371608   \n",
              "3          1  0.172414        0.528696        0.582589      0.341858   \n",
              "4          1  0.270115        0.528696        0.649829      0.385699   \n",
              "...      ...       ...             ...             ...           ...   \n",
              "20053      1  0.066092        0.524267        0.678873      0.473382   \n",
              "20054      1  0.232759        0.528696        0.579718      0.234342   \n",
              "20055      1  0.097701        0.528696        0.579718      0.227035   \n",
              "20056      1  0.310345        0.524267        0.579718      0.300626   \n",
              "20057      1  0.221264        0.528696        0.579718      0.235386   \n",
              "\n",
              "       black_rating     moves  opening_eco  opening_name  opening_ply  \n",
              "0          0.207859  0.646241     0.545460      0.486493     0.148148  \n",
              "1          0.244054  0.516132     0.689034      0.594546     0.111111  \n",
              "2          0.367632  0.646241     0.505185      0.487013     0.074074  \n",
              "3          0.343847  0.651016     0.599078      0.675432     0.074074  \n",
              "4          0.351603  0.651016     0.654124      0.755554     0.148148  \n",
              "...             ...       ...          ...           ...          ...  \n",
              "20053      0.222854  0.646241     0.635102      0.603545     0.037037  \n",
              "20054      0.210445  0.516132     0.599973      0.736431     0.037037  \n",
              "20055      0.256980  0.646241     0.564276      0.612069     0.074074  \n",
              "20056      0.226474  0.646241     0.674342      0.536495     0.111111  \n",
              "20057      0.284385  0.516132     0.564276      0.612069     0.074074  \n",
              "\n",
              "[20058 rows x 10 columns]"
            ]
          },
          "execution_count": 38,
          "metadata": {},
          "output_type": "execute_result"
        }
      ],
      "source": [
        "X"
      ]
    },
    {
      "cell_type": "markdown",
      "id": "e8c8d063",
      "metadata": {
        "id": "e8c8d063"
      },
      "source": [
        "##### TO CHECK PREVALANCE RATE"
      ]
    },
    {
      "cell_type": "code",
      "execution_count": null,
      "id": "fd07174d",
      "metadata": {
        "id": "fd07174d",
        "outputId": "4e14bed1-1152-4e4b-a751-b8553910eade"
      },
      "outputs": [
        {
          "name": "stderr",
          "output_type": "stream",
          "text": [
            "D:\\Anaconda\\lib\\site-packages\\seaborn\\_decorators.py:36: FutureWarning: Pass the following variable as a keyword arg: x. From version 0.12, the only valid positional argument will be `data`, and passing other arguments without an explicit keyword will result in an error or misinterpretation.\n",
            "  warnings.warn(\n"
          ]
        },
        {
          "data": {
            "text/plain": [
              "<AxesSubplot:xlabel='winner', ylabel='count'>"
            ]
          },
          "execution_count": 39,
          "metadata": {},
          "output_type": "execute_result"
        },
        {
          "data": {
            "image/png": "[encoded data removed]",
            "text/plain": [
              "<Figure size 640x480 with 1 Axes>"
            ]
          },
          "metadata": {},
          "output_type": "display_data"
        }
      ],
      "source": [
        "sns.countplot(df.winner)"
      ]
    },
    {
      "cell_type": "markdown",
      "id": "72bb2c2a",
      "metadata": {
        "id": "72bb2c2a"
      },
      "source": [
        "our Target variable is imbalanced so we use SMOTE to make our data Balanced"
      ]
    },
    {
      "cell_type": "code",
      "execution_count": null,
      "id": "24804a25",
      "metadata": {
        "id": "24804a25",
        "outputId": "0715a724-dc1e-463e-8a9b-3195fab62c2b"
      },
      "outputs": [
        {
          "name": "stdout",
          "output_type": "stream",
          "text": [
            "Before Counter : Counter({'white': 10001, 'black': 9107, 'draw': 950})\n",
            "After Counter : Counter({'white': 10001, 'black': 10001, 'draw': 10001})\n"
          ]
        }
      ],
      "source": [
        "from imblearn.over_sampling import SMOTE\n",
        "\n",
        "import collections\n",
        "counter = collections.Counter(y)\n",
        "print('Before Counter :',counter)\n",
        "smt = SMOTE()\n",
        "x_smt,y_smt = smt.fit_resample(X,y)\n",
        "counter = collections.Counter(y_smt)\n",
        "print('After Counter :',counter)"
      ]
    },
    {
      "cell_type": "code",
      "execution_count": null,
      "id": "99e0fda2",
      "metadata": {
        "id": "99e0fda2",
        "outputId": "2597a082-a2f1-401a-956f-48117c615790"
      },
      "outputs": [
        {
          "name": "stderr",
          "output_type": "stream",
          "text": [
            "D:\\Anaconda\\lib\\site-packages\\seaborn\\_decorators.py:36: FutureWarning: Pass the following variable as a keyword arg: x. From version 0.12, the only valid positional argument will be `data`, and passing other arguments without an explicit keyword will result in an error or misinterpretation.\n",
            "  warnings.warn(\n"
          ]
        },
        {
          "data": {
            "text/plain": [
              "<AxesSubplot:xlabel='winner', ylabel='count'>"
            ]
          },
          "execution_count": 41,
          "metadata": {},
          "output_type": "execute_result"
        },
        {
          "data": {
            "image/png": "[encoded data removed]",
            "text/plain": [
              "<Figure size 640x480 with 1 Axes>"
            ]
          },
          "metadata": {},
          "output_type": "display_data"
        }
      ],
      "source": [
        "sns.countplot(y_smt)"
      ]
    },
    {
      "cell_type": "markdown",
      "id": "085f47c6",
      "metadata": {
        "id": "085f47c6"
      },
      "source": [
        "#### TRAIN TEST SPLIT"
      ]
    },
    {
      "cell_type": "code",
      "execution_count": null,
      "id": "0834c324",
      "metadata": {
        "id": "0834c324"
      },
      "outputs": [],
      "source": [
        "from sklearn.model_selection import train_test_split"
      ]
    },
    {
      "cell_type": "code",
      "execution_count": null,
      "id": "a376a28f",
      "metadata": {
        "id": "a376a28f"
      },
      "outputs": [],
      "source": [
        "xtrain,xtest,ytrain,ytest = train_test_split(x_smt,y_smt,test_size=0.30,random_state=0)"
      ]
    },
    {
      "cell_type": "code",
      "execution_count": null,
      "id": "2062887e",
      "metadata": {
        "id": "2062887e",
        "outputId": "2d7e454d-29c6-4ca3-e33e-ac9ac3c16c6c"
      },
      "outputs": [
        {
          "data": {
            "text/plain": [
              "((21002, 10), (9001, 10), (21002,), (9001,))"
            ]
          },
          "execution_count": 44,
          "metadata": {},
          "output_type": "execute_result"
        }
      ],
      "source": [
        "xtrain.shape,xtest.shape,ytrain.shape,ytest.shape"
      ]
    },
    {
      "cell_type": "markdown",
      "id": "d1db6618",
      "metadata": {
        "id": "d1db6618"
      },
      "source": [
        "#### RANDOM FOREST"
      ]
    },
    {
      "cell_type": "code",
      "execution_count": null,
      "id": "610badc7",
      "metadata": {
        "id": "610badc7"
      },
      "outputs": [],
      "source": [
        "from sklearn.ensemble import RandomForestClassifier"
      ]
    },
    {
      "cell_type": "code",
      "execution_count": null,
      "id": "7ab77ddc",
      "metadata": {
        "id": "7ab77ddc"
      },
      "outputs": [],
      "source": [
        "RF_Model = RandomForestClassifier()"
      ]
    },
    {
      "cell_type": "code",
      "execution_count": null,
      "id": "16179229",
      "metadata": {
        "id": "16179229",
        "outputId": "f06609b8-4f34-4b18-c3ad-d1c4437be52e"
      },
      "outputs": [
        {
          "data": {
            "text/plain": [
              "RandomForestClassifier()"
            ]
          },
          "execution_count": 47,
          "metadata": {},
          "output_type": "execute_result"
        }
      ],
      "source": [
        "RF_Model.fit(xtrain,ytrain)"
      ]
    },
    {
      "cell_type": "code",
      "execution_count": null,
      "id": "c785465c",
      "metadata": {
        "id": "c785465c"
      },
      "outputs": [],
      "source": [
        "pred_train = RF_Model.predict(xtrain)"
      ]
    },
    {
      "cell_type": "code",
      "execution_count": null,
      "id": "b74ae3d8",
      "metadata": {
        "id": "b74ae3d8"
      },
      "outputs": [],
      "source": [
        "pred_test = RF_Model.predict(xtest)"
      ]
    },
    {
      "cell_type": "code",
      "execution_count": null,
      "id": "57c5afe2",
      "metadata": {
        "id": "57c5afe2"
      },
      "outputs": [],
      "source": [
        "from sklearn.metrics import accuracy_score"
      ]
    },
    {
      "cell_type": "code",
      "execution_count": null,
      "id": "0ac23221",
      "metadata": {
        "id": "0ac23221",
        "outputId": "9ec5a6bd-7e89-45f4-85bf-1660b08476a2"
      },
      "outputs": [
        {
          "name": "stdout",
          "output_type": "stream",
          "text": [
            "Train Accuracy Score =>  1.0\n",
            "Test Accuracy Score =>  0.9991112098655704\n"
          ]
        }
      ],
      "source": [
        "print('Train Accuracy Score => ',accuracy_score(ytrain,pred_train))\n",
        "print('Test Accuracy Score => ',accuracy_score(ytest,pred_test))"
      ]
    },
    {
      "cell_type": "code",
      "execution_count": null,
      "id": "2c094013",
      "metadata": {
        "id": "2c094013"
      },
      "outputs": [],
      "source": [
        "from sklearn.metrics import classification_report"
      ]
    },
    {
      "cell_type": "code",
      "execution_count": null,
      "id": "6534b2bd",
      "metadata": {
        "id": "6534b2bd",
        "outputId": "c2529662-dd4f-400b-8528-e0103c27791c"
      },
      "outputs": [
        {
          "name": "stdout",
          "output_type": "stream",
          "text": [
            "              precision    recall  f1-score   support\n",
            "\n",
            "       black       1.00      1.00      1.00      3035\n",
            "        draw       1.00      1.00      1.00      2987\n",
            "       white       1.00      1.00      1.00      2979\n",
            "\n",
            "    accuracy                           1.00      9001\n",
            "   macro avg       1.00      1.00      1.00      9001\n",
            "weighted avg       1.00      1.00      1.00      9001\n",
            "\n"
          ]
        }
      ],
      "source": [
        "print(classification_report(ytest,pred_test))"
      ]
    },
    {
      "cell_type": "markdown",
      "id": "e57de220",
      "metadata": {
        "id": "e57de220"
      },
      "source": [
        "#### NAVIE BAYES"
      ]
    },
    {
      "cell_type": "code",
      "execution_count": null,
      "id": "69e69775",
      "metadata": {
        "id": "69e69775"
      },
      "outputs": [],
      "source": [
        "from sklearn.naive_bayes import GaussianNB"
      ]
    },
    {
      "cell_type": "code",
      "execution_count": null,
      "id": "cec62d4c",
      "metadata": {
        "id": "cec62d4c"
      },
      "outputs": [],
      "source": [
        "gnb = GaussianNB()"
      ]
    },
    {
      "cell_type": "code",
      "execution_count": null,
      "id": "f4b2f8c3",
      "metadata": {
        "id": "f4b2f8c3",
        "outputId": "7b95a3c8-07d2-46e4-8909-09326d457f87"
      },
      "outputs": [
        {
          "data": {
            "text/plain": [
              "GaussianNB()"
            ]
          },
          "execution_count": 56,
          "metadata": {},
          "output_type": "execute_result"
        }
      ],
      "source": [
        "gnb.fit(xtrain,ytrain)"
      ]
    },
    {
      "cell_type": "code",
      "execution_count": null,
      "id": "5a9cd915",
      "metadata": {
        "id": "5a9cd915"
      },
      "outputs": [],
      "source": [
        "pred_Train1 = gnb.predict(xtrain)\n",
        "pred_Test1 = gnb.predict(xtest)"
      ]
    },
    {
      "cell_type": "code",
      "execution_count": null,
      "id": "5047437d",
      "metadata": {
        "id": "5047437d",
        "outputId": "001f2de7-a556-4104-c6a3-945b50c20e98"
      },
      "outputs": [
        {
          "name": "stdout",
          "output_type": "stream",
          "text": [
            "Train Accuracy Score =>  0.9981906485096658\n",
            "Test Accuracy Score =>  0.9978891234307299\n"
          ]
        }
      ],
      "source": [
        "print('Train Accuracy Score => ',accuracy_score(ytrain,pred_Train1))\n",
        "print('Test Accuracy Score => ',accuracy_score(ytest,pred_Test1))"
      ]
    },
    {
      "cell_type": "code",
      "execution_count": null,
      "id": "cb884628",
      "metadata": {
        "id": "cb884628",
        "outputId": "814f5f48-285a-4ffa-88bd-65ea4e7ec0a9"
      },
      "outputs": [
        {
          "name": "stdout",
          "output_type": "stream",
          "text": [
            "              precision    recall  f1-score   support\n",
            "\n",
            "       black       1.00      1.00      1.00      3035\n",
            "        draw       1.00      1.00      1.00      2987\n",
            "       white       1.00      0.99      1.00      2979\n",
            "\n",
            "    accuracy                           1.00      9001\n",
            "   macro avg       1.00      1.00      1.00      9001\n",
            "weighted avg       1.00      1.00      1.00      9001\n",
            "\n"
          ]
        }
      ],
      "source": [
        "print(classification_report(ytest,pred_Test1))"
      ]
    },
    {
      "cell_type": "markdown",
      "id": "db68dc44",
      "metadata": {
        "id": "db68dc44"
      },
      "source": [
        "#### SUPPORT VECTOR MACHINE"
      ]
    },
    {
      "cell_type": "code",
      "execution_count": null,
      "id": "a9c8ccfa",
      "metadata": {
        "id": "a9c8ccfa"
      },
      "outputs": [],
      "source": [
        "from sklearn.svm import SVC"
      ]
    },
    {
      "cell_type": "code",
      "execution_count": null,
      "id": "95b25670",
      "metadata": {
        "id": "95b25670"
      },
      "outputs": [],
      "source": [
        "Model_svm = SVC()"
      ]
    },
    {
      "cell_type": "code",
      "execution_count": null,
      "id": "fdfb68a4",
      "metadata": {
        "id": "fdfb68a4",
        "outputId": "7a800a52-6c66-4589-f27d-277e80072c78"
      },
      "outputs": [
        {
          "data": {
            "text/plain": [
              "SVC()"
            ]
          },
          "execution_count": 62,
          "metadata": {},
          "output_type": "execute_result"
        }
      ],
      "source": [
        "Model_svm.fit(xtrain,ytrain)"
      ]
    },
    {
      "cell_type": "code",
      "execution_count": null,
      "id": "2ada4e5b",
      "metadata": {
        "id": "2ada4e5b"
      },
      "outputs": [],
      "source": [
        "PredTraiN = Model_svm.predict(xtrain)"
      ]
    },
    {
      "cell_type": "code",
      "execution_count": null,
      "id": "3d00414d",
      "metadata": {
        "id": "3d00414d"
      },
      "outputs": [],
      "source": [
        "PredTesT = Model_svm.predict(xtest)"
      ]
    },
    {
      "cell_type": "code",
      "execution_count": null,
      "id": "c2949964",
      "metadata": {
        "id": "c2949964",
        "outputId": "a01ad942-679c-498d-9c6e-a90322045ee4"
      },
      "outputs": [
        {
          "name": "stdout",
          "output_type": "stream",
          "text": [
            "Train Accuracy Score =>  0.9985239500999905\n",
            "Test Accuracy Score =>  0.9984446172647483\n"
          ]
        }
      ],
      "source": [
        "print('Train Accuracy Score => ',accuracy_score(ytrain,PredTraiN))\n",
        "print('Test Accuracy Score => ',accuracy_score(ytest,PredTesT))"
      ]
    },
    {
      "cell_type": "code",
      "execution_count": null,
      "id": "472d8aa5",
      "metadata": {
        "scrolled": true,
        "id": "472d8aa5",
        "outputId": "9bda6690-c172-4dc3-fd04-108451ddd467"
      },
      "outputs": [
        {
          "name": "stdout",
          "output_type": "stream",
          "text": [
            "              precision    recall  f1-score   support\n",
            "\n",
            "       black       1.00      1.00      1.00      3035\n",
            "        draw       1.00      1.00      1.00      2987\n",
            "       white       1.00      1.00      1.00      2979\n",
            "\n",
            "    accuracy                           1.00      9001\n",
            "   macro avg       1.00      1.00      1.00      9001\n",
            "weighted avg       1.00      1.00      1.00      9001\n",
            "\n"
          ]
        }
      ],
      "source": [
        "print(classification_report(ytest,PredTesT))"
      ]
    },
    {
      "cell_type": "markdown",
      "id": "9d475b66",
      "metadata": {
        "id": "9d475b66"
      },
      "source": [
        "TO CHECK HOW OUR MODEL WAS PERFORMED PARTICULAR DATA"
      ]
    },
    {
      "cell_type": "code",
      "execution_count": null,
      "id": "0bf2cdb2",
      "metadata": {
        "id": "0bf2cdb2"
      },
      "outputs": [],
      "source": [
        "a=xtrain[:1:6]"
      ]
    },
    {
      "cell_type": "code",
      "execution_count": null,
      "id": "37dec3ac",
      "metadata": {
        "id": "37dec3ac",
        "outputId": "2a4450d5-4a54-499d-8794-682aebf0ae82"
      },
      "outputs": [
        {
          "data": {
            "text/plain": [
              "array(['white'], dtype=object)"
            ]
          },
          "execution_count": 68,
          "metadata": {},
          "output_type": "execute_result"
        }
      ],
      "source": [
        "RF_Model.predict(a)"
      ]
    },
    {
      "cell_type": "code",
      "execution_count": null,
      "id": "51fb891e",
      "metadata": {
        "id": "51fb891e",
        "outputId": "7689c8b9-8fda-475e-d7ea-12bf314f75f7"
      },
      "outputs": [
        {
          "data": {
            "text/html": [
              "<div>\n",
              "<style scoped>\n",
              "    .dataframe tbody tr th:only-of-type {\n",
              "        vertical-align: middle;\n",
              "    }\n",
              "\n",
              "    .dataframe tbody tr th {\n",
              "        vertical-align: top;\n",
              "    }\n",
              "\n",
              "    .dataframe thead th {\n",
              "        text-align: right;\n",
              "    }\n",
              "</style>\n",
              "<table border=\"1\" class=\"dataframe\">\n",
              "  <thead>\n",
              "    <tr style=\"text-align: right;\">\n",
              "      <th></th>\n",
              "      <th>id</th>\n",
              "      <th>rated</th>\n",
              "      <th>created_at</th>\n",
              "      <th>last_move_at</th>\n",
              "      <th>turns</th>\n",
              "      <th>victory_status</th>\n",
              "      <th>winner</th>\n",
              "      <th>increment_code</th>\n",
              "      <th>white_id</th>\n",
              "      <th>white_rating</th>\n",
              "      <th>black_id</th>\n",
              "      <th>black_rating</th>\n",
              "      <th>moves</th>\n",
              "      <th>opening_eco</th>\n",
              "      <th>opening_name</th>\n",
              "      <th>opening_ply</th>\n",
              "    </tr>\n",
              "  </thead>\n",
              "  <tbody>\n",
              "    <tr>\n",
              "      <th>1878</th>\n",
              "      <td>aKEBIuvF</td>\n",
              "      <td>True</td>\n",
              "      <td>1.490000e+12</td>\n",
              "      <td>1.490000e+12</td>\n",
              "      <td>79</td>\n",
              "      <td>resign</td>\n",
              "      <td>white</td>\n",
              "      <td>15+10</td>\n",
              "      <td>sharkey101</td>\n",
              "      <td>1839</td>\n",
              "      <td>akmar</td>\n",
              "      <td>1819</td>\n",
              "      <td>e4 e5 Nf3 Nc6 Bb5 d6 c3 Bd7 d4 a6 Ba4 b5 Bb3 h...</td>\n",
              "      <td>C62</td>\n",
              "      <td>Ruy Lopez: Steinitz Defense</td>\n",
              "      <td>6</td>\n",
              "    </tr>\n",
              "  </tbody>\n",
              "</table>\n",
              "</div>"
            ],
            "text/plain": [
              "            id  rated    created_at  last_move_at  turns victory_status  \\\n",
              "1878  aKEBIuvF   True  1.490000e+12  1.490000e+12     79         resign   \n",
              "\n",
              "     winner increment_code    white_id  white_rating black_id  black_rating  \\\n",
              "1878  white          15+10  sharkey101          1839    akmar          1819   \n",
              "\n",
              "                                                  moves opening_eco  \\\n",
              "1878  e4 e5 Nf3 Nc6 Bb5 d6 c3 Bd7 d4 a6 Ba4 b5 Bb3 h...         C62   \n",
              "\n",
              "                     opening_name  opening_ply  \n",
              "1878  Ruy Lopez: Steinitz Defense            6  "
            ]
          },
          "execution_count": 69,
          "metadata": {},
          "output_type": "execute_result"
        }
      ],
      "source": [
        "df[1878:].head(1)"
      ]
    },
    {
      "cell_type": "code",
      "execution_count": null,
      "id": "242e90ba",
      "metadata": {
        "id": "242e90ba"
      },
      "outputs": [],
      "source": []
    },
    {
      "cell_type": "code",
      "execution_count": null,
      "id": "2ed1ef5b",
      "metadata": {
        "id": "2ed1ef5b"
      },
      "outputs": [],
      "source": []
    },
    {
      "cell_type": "code",
      "execution_count": null,
      "id": "2d87092b",
      "metadata": {
        "id": "2d87092b"
      },
      "outputs": [],
      "source": []
    }
  ],
  "metadata": {
    "kernelspec": {
      "display_name": "Python 3 (ipykernel)",
      "language": "python",
      "name": "python3"
    },
    "language_info": {
      "codemirror_mode": {
        "name": "ipython",
        "version": 3
      },
      "file_extension": ".py",
      "mimetype": "text/x-python",
      "name": "python",
      "nbconvert_exporter": "python",
      "pygments_lexer": "ipython3",
      "version": "3.9.13"
    },
    "colab": {
      "provenance": []
    }
  },
  "nbformat": 4,
  "nbformat_minor": 5
}